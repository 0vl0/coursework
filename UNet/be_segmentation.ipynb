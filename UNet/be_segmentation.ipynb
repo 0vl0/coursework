{
 "cells": [
  {
   "cell_type": "code",
   "execution_count": 8,
   "metadata": {},
   "outputs": [],
   "source": [
    "import torch \n",
    "import torch.nn as nn\n",
    "from torch.nn import CrossEntropyLoss\n",
    "from torch.optim import Adam"
   ]
  },
  {
   "cell_type": "code",
   "execution_count": 6,
   "metadata": {},
   "outputs": [],
   "source": [
    "class UNet(nn.Module):\n",
    "    def __init__(self):\n",
    "        # Super constructor\n",
    "        super().__init__()\n",
    "        self.conv1 = nn.Sequential(\n",
    "            nn.Conv2d(in_channels=3, out_channels=8, kernel_size=3, padding='same'),\n",
    "            nn.Conv2d(in_channels=8, out_channels=16, kernel_size=3, padding='same')\n",
    "        )\n",
    "        self.pool1 = nn.MaxPool2d(kernel_size=2, stride=2)\n",
    "\n",
    "        self.conv2 = nn.Sequential(\n",
    "            nn.Conv2d(in_channels=16, out_channels=24, kernel_size=3, padding='same'),\n",
    "            nn.Conv2d(in_channels=24, out_channels=32, kernel_size=3, padding='same')\n",
    "        )\n",
    "        self.pool2 = nn.MaxPool2d(kernel_size=2, stride=2)\n",
    "\n",
    "        self.conv3 = nn.Sequential(\n",
    "            nn.Conv2d(in_channels=32, out_channels=48, kernel_size=3, padding='same'),\n",
    "            nn.Conv2d(in_channels=48, out_channels=64, kernel_size=3, padding='same')\n",
    "        )\n",
    "        self.pool3 = nn.MaxPool2d(kernel_size=2, stride=2)\n",
    "\n",
    "        self.conv4 = nn.Sequential(\n",
    "            nn.Conv2d(in_channels=64, out_channels=96, kernel_size=3, padding='same'),\n",
    "            nn.Conv2d(in_channels=96, out_channels=128, kernel_size=3, padding='same')\n",
    "        )\n",
    "        self.pool4 = nn.MaxPool2d(kernel_size=2, stride=2)\n",
    "\n",
    "        self.conv5 = nn.Sequential(\n",
    "            nn.Conv2d(in_channels=128, out_channels=192, kernel_size=3, padding='same'),\n",
    "            nn.Conv2d(in_channels=192, out_channels=256, kernel_size=3, padding='same')\n",
    "        )\n",
    "\n",
    "        # Decoder \n",
    "        \n",
    "        self.transpose_conv1 = nn.ConvTranspose2d(in_channels=256, out_channels=128, kernel_size=3)\n",
    "\n",
    "        self.conv6 = nn.Sequential(\n",
    "            nn.Conv2d(in_channels=256, out_channels=192, kernel_size=3, padding='same'),\n",
    "            nn.Conv2d(in_channels=192, out_channels=128, kernel_size=3, padding='same')\n",
    "        )\n",
    "        self.transpose_conv2 = nn.ConvTranspose2d(in_channels=128, out_channels=64, kernel_size=3)\n",
    "\n",
    "        self.conv7 = nn.Sequential(\n",
    "            nn.Conv2d(in_channels=128, out_channels=92, kernel_size=3, padding='same'),\n",
    "            nn.Conv2d(in_channels=92, out_channels=64, kernel_size=3, padding='same')\n",
    "        )\n",
    "        self.transpose_conv3 = nn.ConvTranspose2d(in_channels=64, out_channels=32, kernel_size=3)\n",
    "\n",
    "        self.conv8 = nn.Sequential(\n",
    "            nn.Conv2d(in_channels=64, out_channels=48, kernel_size=3, padding='same'),\n",
    "            nn.Conv2d(in_channels=48, out_channels=32, kernel_size=3, padding='same')\n",
    "        )\n",
    "        self.transpose_conv4 = nn.ConvTranspose2d(in_channels=32, out_channels=16, kernel_size=3)\n",
    "\n",
    "        self.conv9 = nn.Sequential(\n",
    "            nn.Conv2d(in_channels=32, out_channels=24, kernel_size=3, padding='same'),\n",
    "            nn.Conv2d(in_channels=24, out_channels=16, kernel_size=3, padding='same')\n",
    "        )\n",
    "\n",
    "        self.conv10 = nn.Conv2d(in_channels=16, out_channels=1, kernel_size=1)\n",
    "        \n",
    "\n",
    "    def forward(self, images):\n",
    "        # Encoder\n",
    "\n",
    "        c1 = self.conv1(images)\n",
    "        p1 = self.pool1(c1)\n",
    "\n",
    "        c2 = self.conv2(p1)\n",
    "        p2 = self.pool2(c2)\n",
    "\n",
    "        c3 = self.conv3(p2)\n",
    "        p3 = self.pool3(c3)\n",
    "\n",
    "        c4 = self.conv4(p3)\n",
    "        p4 = self.pool4(c4)\n",
    "\n",
    "        c5 = self.conv5(p4)\n",
    "\n",
    "        # Decoder \n",
    "\n",
    "        u6 = self.transpose_conv1(c5)\n",
    "        u6 = torch.cat(u6, c4, dim=2)\n",
    "\n",
    "        c6 = self.conv6(u6)\n",
    "        u7 = self.transpose_conv2(c6)\n",
    "        u7 = torch.cat(u7, c3, dim=2)\n",
    "\n",
    "        c7 = self.conv7(u7)\n",
    "        u8 = self.transpose_conv3(c7)\n",
    "        u8 = torch.cat(u8, c2)\n",
    "\n",
    "        c8 = self.conv8(u8)\n",
    "        u9 = self.transpose_conv4(c8)\n",
    "        u9 = torch.cat(u9, c1)\n",
    "\n",
    "        c9 = self.conv9(u9)\n",
    "        \n",
    "        return self.conv10(c9)\n",
    "\n"
   ]
  },
  {
   "cell_type": "code",
   "execution_count": 7,
   "metadata": {},
   "outputs": [],
   "source": [
    "UNet = UNet()"
   ]
  },
  {
   "cell_type": "markdown",
   "metadata": {},
   "source": [
    "#### Training"
   ]
  },
  {
   "cell_type": "markdown",
   "metadata": {},
   "source": [
    "https://www.kaggle.com/c/tgs-salt-identification-challenge/data"
   ]
  },
  {
   "cell_type": "code",
   "execution_count": null,
   "metadata": {},
   "outputs": [],
   "source": [
    "N_EPOCHS = 20\n",
    "LR = 0.005\n",
    "BATCH_SIZE = 32\n",
    "optimizer = Adam(UNet.parameters(), lr=LR)\n",
    "criterion = CrossEntropyLoss()"
   ]
  }
 ],
 "metadata": {
  "kernelspec": {
   "display_name": "Python 3",
   "language": "python",
   "name": "python3"
  },
  "language_info": {
   "codemirror_mode": {
    "name": "ipython",
    "version": 3
   },
   "file_extension": ".py",
   "mimetype": "text/x-python",
   "name": "python",
   "nbconvert_exporter": "python",
   "pygments_lexer": "ipython3",
   "version": "3.10.12"
  }
 },
 "nbformat": 4,
 "nbformat_minor": 2
}
