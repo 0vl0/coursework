{
 "cells": [
  {
   "cell_type": "markdown",
   "metadata": {},
   "source": [
    "#### I reimplemented the naive Bayes method in python\n",
    "Victor Ludvig, November 2023"
   ]
  },
  {
   "cell_type": "code",
   "execution_count": 1,
   "metadata": {},
   "outputs": [],
   "source": [
    "import pandas as pd\n",
    "import numpy as np\n",
    "from math import prod\n",
    "from sklearn.metrics import confusion_matrix"
   ]
  },
  {
   "cell_type": "markdown",
   "metadata": {},
   "source": [
    "#### Read train file"
   ]
  },
  {
   "cell_type": "code",
   "execution_count": 2,
   "metadata": {},
   "outputs": [
    {
     "name": "stdout",
     "output_type": "stream",
     "text": [
      "target = is_haggis\n"
     ]
    },
    {
     "data": {
      "text/html": [
       "<div>\n",
       "<style scoped>\n",
       "    .dataframe tbody tr th:only-of-type {\n",
       "        vertical-align: middle;\n",
       "    }\n",
       "\n",
       "    .dataframe tbody tr th {\n",
       "        vertical-align: top;\n",
       "    }\n",
       "\n",
       "    .dataframe thead th {\n",
       "        text-align: right;\n",
       "    }\n",
       "</style>\n",
       "<table border=\"1\" class=\"dataframe\">\n",
       "  <thead>\n",
       "    <tr style=\"text-align: right;\">\n",
       "      <th></th>\n",
       "      <th>skin</th>\n",
       "      <th>colour</th>\n",
       "      <th>size</th>\n",
       "      <th>flesh</th>\n",
       "      <th>eats_shortbread</th>\n",
       "      <th>length</th>\n",
       "      <th>is_haggis</th>\n",
       "    </tr>\n",
       "  </thead>\n",
       "  <tbody>\n",
       "    <tr>\n",
       "      <th>0</th>\n",
       "      <td>hairy</td>\n",
       "      <td>brown</td>\n",
       "      <td>large</td>\n",
       "      <td>hard</td>\n",
       "      <td>1</td>\n",
       "      <td>3.25</td>\n",
       "      <td>1</td>\n",
       "    </tr>\n",
       "    <tr>\n",
       "      <th>1</th>\n",
       "      <td>hairy</td>\n",
       "      <td>green</td>\n",
       "      <td>?</td>\n",
       "      <td>hard</td>\n",
       "      <td>1</td>\n",
       "      <td>4.22</td>\n",
       "      <td>1</td>\n",
       "    </tr>\n",
       "    <tr>\n",
       "      <th>2</th>\n",
       "      <td>?</td>\n",
       "      <td>red</td>\n",
       "      <td>small</td>\n",
       "      <td>soft</td>\n",
       "      <td>0</td>\n",
       "      <td>1.27</td>\n",
       "      <td>0</td>\n",
       "    </tr>\n",
       "    <tr>\n",
       "      <th>3</th>\n",
       "      <td>hairy</td>\n",
       "      <td>green</td>\n",
       "      <td>large</td>\n",
       "      <td>hard</td>\n",
       "      <td>1</td>\n",
       "      <td>3.55</td>\n",
       "      <td>1</td>\n",
       "    </tr>\n",
       "    <tr>\n",
       "      <th>4</th>\n",
       "      <td>smooth</td>\n",
       "      <td>red</td>\n",
       "      <td>small</td>\n",
       "      <td>soft</td>\n",
       "      <td>0</td>\n",
       "      <td>2.13</td>\n",
       "      <td>0</td>\n",
       "    </tr>\n",
       "    <tr>\n",
       "      <th>5</th>\n",
       "      <td>smooth</td>\n",
       "      <td>green</td>\n",
       "      <td>large</td>\n",
       "      <td>soft</td>\n",
       "      <td>1</td>\n",
       "      <td>2.67</td>\n",
       "      <td>0</td>\n",
       "    </tr>\n",
       "    <tr>\n",
       "      <th>6</th>\n",
       "      <td>hairy</td>\n",
       "      <td>?</td>\n",
       "      <td>large</td>\n",
       "      <td>soft</td>\n",
       "      <td>0</td>\n",
       "      <td>3.77</td>\n",
       "      <td>1</td>\n",
       "    </tr>\n",
       "  </tbody>\n",
       "</table>\n",
       "</div>"
      ],
      "text/plain": [
       "     skin colour   size flesh  eats_shortbread  length  is_haggis\n",
       "0   hairy  brown  large  hard                1    3.25          1\n",
       "1   hairy  green      ?  hard                1    4.22          1\n",
       "2       ?    red  small  soft                0    1.27          0\n",
       "3   hairy  green  large  hard                1    3.55          1\n",
       "4  smooth    red  small  soft                0    2.13          0\n",
       "5  smooth  green  large  soft                1    2.67          0\n",
       "6   hairy      ?  large  soft                0    3.77          1"
      ]
     },
     "execution_count": 2,
     "metadata": {},
     "output_type": "execute_result"
    }
   ],
   "source": [
    "df_train = pd.read_csv('./data/haggis_data.csv')\n",
    "target = df_train.columns[-1]\n",
    "print(f'target = {target}')\n",
    "df_train"
   ]
  },
  {
   "cell_type": "markdown",
   "metadata": {},
   "source": [
    "#### Get categorical and numerical column names\n",
    "Sets are also created to know during inference time if we have to use probabilities (categorical) or PDF (numerical)."
   ]
  },
  {
   "cell_type": "code",
   "execution_count": 3,
   "metadata": {},
   "outputs": [
    {
     "name": "stdout",
     "output_type": "stream",
     "text": [
      "Categorical columns: ['skin', 'colour', 'size', 'flesh', 'eats_shortbread']\n",
      "Numerical columns: ['length']\n"
     ]
    }
   ],
   "source": [
    "list_categorical_columns = df_train.dtypes[df_train.dtypes != float].index.to_list()[:-1]\n",
    "list_numerical_columns = df_train.dtypes[df_train.dtypes == float].index.to_list()\n",
    "set_categorical, set_numerical = set(list_categorical_columns), set(list_numerical_columns)\n",
    "print(f'Categorical columns: {list_categorical_columns}\\nNumerical columns: {list_numerical_columns}')"
   ]
  },
  {
   "cell_type": "markdown",
   "metadata": {},
   "source": [
    "#### Get the list of values possible for each column\n",
    "The value '?' is not saved because the occurences of missing values are not counted"
   ]
  },
  {
   "cell_type": "code",
   "execution_count": 4,
   "metadata": {},
   "outputs": [
    {
     "data": {
      "text/plain": [
       "{'skin': ['hairy', 'smooth'],\n",
       " 'colour': ['brown', 'green', 'red'],\n",
       " 'size': ['large', 'small'],\n",
       " 'flesh': ['hard', 'soft'],\n",
       " 'eats_shortbread': [0, 1]}"
      ]
     },
     "execution_count": 4,
     "metadata": {},
     "output_type": "execute_result"
    }
   ],
   "source": [
    "list_values = {label: [x for x in np.unique(df_train[label].values) if x != '?'] for label in list_categorical_columns}\n",
    "list_values"
   ]
  },
  {
   "cell_type": "markdown",
   "metadata": {},
   "source": [
    "#### Create a data structure to save the number of occurences of yes and no for each label of each column\n",
    "A nested dictionary is used"
   ]
  },
  {
   "cell_type": "code",
   "execution_count": 5,
   "metadata": {},
   "outputs": [
    {
     "name": "stdout",
     "output_type": "stream",
     "text": [
      "dictionnary_frequencies = {'skin': {'hairy': {'yes': 0, 'no': 0}, 'smooth': {'yes': 0, 'no': 0}}, 'colour': {'brown': {'yes': 0, 'no': 0}, 'green': {'yes': 0, 'no': 0}, 'red': {'yes': 0, 'no': 0}}, 'size': {'large': {'yes': 0, 'no': 0}, 'small': {'yes': 0, 'no': 0}}, 'flesh': {'hard': {'yes': 0, 'no': 0}, 'soft': {'yes': 0, 'no': 0}}, 'eats_shortbread': {0: {'yes': 0, 'no': 0}, 1: {'yes': 0, 'no': 0}}}\n"
     ]
    }
   ],
   "source": [
    "dictionnary_frequencies = {\n",
    "    column_name: {label: {'yes': 0, 'no':0} for label in list_values[column_name]} for column_name in list_categorical_columns\n",
    "}\n",
    "print(f'dictionnary_frequencies = {dictionnary_frequencies}')"
   ]
  },
  {
   "cell_type": "markdown",
   "metadata": {},
   "source": [
    "####  Add the number of occurences for categorical data\n",
    "$\\epsilon = 1$ is used for Laplace smoothing. <br>\n",
    "Q1 : We see that Laplace smoothing adds the value 1 for each count of yes and no, so that no count is zero. Hence, a count of 0 in the number of yes or no for a label in the database will not set the corresponding probability to 0. <br>\n",
    "I added a print after each column processed, so that we can see the effect of Laplace smoothing."
   ]
  },
  {
   "cell_type": "code",
   "execution_count": 6,
   "metadata": {},
   "outputs": [
    {
     "name": "stdout",
     "output_type": "stream",
     "text": [
      "After adding the number of occurences of skin, dictonnary_frequencies = {'hairy': {'yes': 5, 'no': 1}, 'smooth': {'yes': 1, 'no': 3}}\n",
      "After adding the number of occurences of colour, dictonnary_frequencies = {'brown': {'yes': 2, 'no': 1}, 'green': {'yes': 3, 'no': 2}, 'red': {'yes': 1, 'no': 3}}\n",
      "After adding the number of occurences of size, dictonnary_frequencies = {'large': {'yes': 4, 'no': 2}, 'small': {'yes': 1, 'no': 3}}\n",
      "After adding the number of occurences of flesh, dictonnary_frequencies = {'hard': {'yes': 4, 'no': 1}, 'soft': {'yes': 2, 'no': 4}}\n",
      "After adding the number of occurences of eats_shortbread, dictonnary_frequencies = {0: {'yes': 2, 'no': 3}, 1: {'yes': 4, 'no': 2}}\n",
      "After dividing by the number of entries + the number of modes, dictionary_frequencies = {'skin': {'hairy': {'yes': 0.625, 'no': 0.125}, 'smooth': {'yes': 0.125, 'no': 0.375}}, 'colour': {'brown': {'yes': 0.2222222222222222, 'no': 0.1111111111111111}, 'green': {'yes': 0.3333333333333333, 'no': 0.2222222222222222}, 'red': {'yes': 0.1111111111111111, 'no': 0.3333333333333333}}, 'size': {'large': {'yes': 0.5, 'no': 0.25}, 'small': {'yes': 0.125, 'no': 0.375}}, 'flesh': {'hard': {'yes': 0.4444444444444444, 'no': 0.1111111111111111}, 'soft': {'yes': 0.2222222222222222, 'no': 0.4444444444444444}}, 'eats_shortbread': {0: {'yes': 0.2222222222222222, 'no': 0.3333333333333333}, 1: {'yes': 0.4444444444444444, 'no': 0.2222222222222222}}}\n"
     ]
    }
   ],
   "source": [
    "epsilon = 1\n",
    "for column_name in list_categorical_columns:\n",
    "    total_entries = 0\n",
    "    mode = len(list_values[column_name])\n",
    "\n",
    "    # First loop to get the number of yes and no corresponding to the label\n",
    "    for label in list_values[column_name]:\n",
    "        n_yes = len(df_train[(df_train[column_name]==label) & (df_train['is_haggis']==1)])\n",
    "        n_no = len(df_train[(df_train[column_name]==label) & (df_train['is_haggis']==0)])\n",
    "        total_entries += n_yes + n_no\n",
    "        dictionnary_frequencies[column_name][label]['yes'] = n_yes + epsilon\n",
    "        dictionnary_frequencies[column_name][label]['no'] = n_no + epsilon\n",
    "\n",
    "    print(f'After adding the number of occurences of {column_name}, dictonnary_frequencies = {dictionnary_frequencies[column_name]}')\n",
    "\n",
    "    # Second loop to divide by the total number of entries and add the epsilon\n",
    "    for label in list_values[column_name]:\n",
    "        dictionnary_frequencies[column_name][label]['yes'] = (dictionnary_frequencies[column_name][label]['yes'])/(total_entries+mode*epsilon)\n",
    "        dictionnary_frequencies[column_name][label]['no'] = (dictionnary_frequencies[column_name][label]['no'])/(total_entries+mode*epsilon)\n",
    "\n",
    "print(f'After dividing by the number of entries + the number of modes, dictionary_frequencies = {dictionnary_frequencies}')"
   ]
  },
  {
   "cell_type": "markdown",
   "metadata": {},
   "source": [
    "#### Add Mean and std for numerical data\n",
    "We need to add the values from the test data as well here. <br>\n",
    "The mean and std are computed with both train and test data. <br>\n",
    "The classifier can in fact update the mean/std when it sees new data, so we compute everything beforehand."
   ]
  },
  {
   "cell_type": "markdown",
   "metadata": {},
   "source": [
    "First the test data set is loaded"
   ]
  },
  {
   "cell_type": "code",
   "execution_count": 7,
   "metadata": {},
   "outputs": [
    {
     "data": {
      "text/html": [
       "<div>\n",
       "<style scoped>\n",
       "    .dataframe tbody tr th:only-of-type {\n",
       "        vertical-align: middle;\n",
       "    }\n",
       "\n",
       "    .dataframe tbody tr th {\n",
       "        vertical-align: top;\n",
       "    }\n",
       "\n",
       "    .dataframe thead th {\n",
       "        text-align: right;\n",
       "    }\n",
       "</style>\n",
       "<table border=\"1\" class=\"dataframe\">\n",
       "  <thead>\n",
       "    <tr style=\"text-align: right;\">\n",
       "      <th></th>\n",
       "      <th>skin</th>\n",
       "      <th>colour</th>\n",
       "      <th>size</th>\n",
       "      <th>flesh</th>\n",
       "      <th>eats_shortbread</th>\n",
       "      <th>length</th>\n",
       "      <th>is_haggis</th>\n",
       "    </tr>\n",
       "  </thead>\n",
       "  <tbody>\n",
       "    <tr>\n",
       "      <th>0</th>\n",
       "      <td>smooth</td>\n",
       "      <td>red</td>\n",
       "      <td>large</td>\n",
       "      <td>hard</td>\n",
       "      <td>1</td>\n",
       "      <td>3.25</td>\n",
       "      <td>1</td>\n",
       "    </tr>\n",
       "    <tr>\n",
       "      <th>1</th>\n",
       "      <td>hairy</td>\n",
       "      <td>brown</td>\n",
       "      <td>small</td>\n",
       "      <td>hard</td>\n",
       "      <td>1</td>\n",
       "      <td>2.56</td>\n",
       "      <td>0</td>\n",
       "    </tr>\n",
       "    <tr>\n",
       "      <th>2</th>\n",
       "      <td>smooth</td>\n",
       "      <td>green</td>\n",
       "      <td>small</td>\n",
       "      <td>hard</td>\n",
       "      <td>1</td>\n",
       "      <td>3.05</td>\n",
       "      <td>1</td>\n",
       "    </tr>\n",
       "    <tr>\n",
       "      <th>3</th>\n",
       "      <td>hairy</td>\n",
       "      <td>red</td>\n",
       "      <td>large</td>\n",
       "      <td>soft</td>\n",
       "      <td>0</td>\n",
       "      <td>2.05</td>\n",
       "      <td>1</td>\n",
       "    </tr>\n",
       "  </tbody>\n",
       "</table>\n",
       "</div>"
      ],
      "text/plain": [
       "     skin colour   size flesh  eats_shortbread  length  is_haggis\n",
       "0  smooth    red  large  hard                1    3.25          1\n",
       "1   hairy  brown  small  hard                1    2.56          0\n",
       "2  smooth  green  small  hard                1    3.05          1\n",
       "3   hairy    red  large  soft                0    2.05          1"
      ]
     },
     "execution_count": 7,
     "metadata": {},
     "output_type": "execute_result"
    }
   ],
   "source": [
    "df_test = pd.read_csv('./data/haggis_test.csv')\n",
    "df_test"
   ]
  },
  {
   "cell_type": "code",
   "execution_count": 8,
   "metadata": {},
   "outputs": [
    {
     "name": "stdout",
     "output_type": "stream",
     "text": [
      "n_yes = 7, n_no = 4\n",
      "mean_yes = 3.3057142857142856, mean_no = 2.1575\n",
      "std_yes = 0.9047903504300279, std_no = 0.32863987382341\n"
     ]
    },
    {
     "data": {
      "text/plain": [
       "{'skin': {'hairy': {'yes': 0.625, 'no': 0.125},\n",
       "  'smooth': {'yes': 0.125, 'no': 0.375}},\n",
       " 'colour': {'brown': {'yes': 0.2222222222222222, 'no': 0.1111111111111111},\n",
       "  'green': {'yes': 0.3333333333333333, 'no': 0.2222222222222222},\n",
       "  'red': {'yes': 0.1111111111111111, 'no': 0.3333333333333333}},\n",
       " 'size': {'large': {'yes': 0.5, 'no': 0.25},\n",
       "  'small': {'yes': 0.125, 'no': 0.375}},\n",
       " 'flesh': {'hard': {'yes': 0.4444444444444444, 'no': 0.1111111111111111},\n",
       "  'soft': {'yes': 0.2222222222222222, 'no': 0.4444444444444444}},\n",
       " 'eats_shortbread': {0: {'yes': 0.2222222222222222, 'no': 0.3333333333333333},\n",
       "  1: {'yes': 0.4444444444444444, 'no': 0.2222222222222222}},\n",
       " 'length': {'mean_1': 3.3057142857142856,\n",
       "  'mean_0': 2.1575,\n",
       "  'std_yes': 0.9047903504300279,\n",
       "  'std_no': 0.32863987382341}}"
      ]
     },
     "execution_count": 8,
     "metadata": {},
     "output_type": "execute_result"
    }
   ],
   "source": [
    "for column_name in list_numerical_columns:\n",
    "    n_yes = len(df_train[df_train['is_haggis']==1]) + len(df_test[df_test['is_haggis']==1])\n",
    "    sum_yes = sum(df_train[(df_train['is_haggis']==1)][column_name]) + sum(df_test[(df_test['is_haggis']==1)][column_name])\n",
    "    n_no = len(df_train[df_train['is_haggis']==0]) + len(df_test[df_test['is_haggis']==0])\n",
    "    sum_no = sum(df_train[(df_train['is_haggis']==0)][column_name]) + sum(df_test[(df_test['is_haggis']==0)][column_name])\n",
    "\n",
    "    print(f'n_yes = {n_yes}, n_no = {n_no}')\n",
    "    mean_yes, mean_no = sum_yes/n_yes, sum_no/n_no\n",
    "    std_yes = np.sqrt((sum(df_train[(df_train['is_haggis']==1)]['length']-mean_yes)**2 + sum(df_test[(df_test['is_haggis']==1)]['length']-mean_yes)**2)/(n_yes-1))\n",
    "    std_no = np.sqrt((sum(df_train[(df_train['is_haggis']==0)]['length']-mean_no)**2 + sum(df_test[(df_test['is_haggis']==0)]['length']-mean_no)**2)/(n_no-1))\n",
    "\n",
    "    print(f'mean_yes = {mean_yes}, mean_no = {mean_no}')\n",
    "    print(f'std_yes = {std_yes}, std_no = {std_no}')\n",
    "\n",
    "    dictionnary_frequencies[column_name] = {'mean_1': mean_yes, 'mean_0': mean_no, 'std_yes': std_yes, 'std_no': std_no}\n",
    "\n",
    "dictionnary_frequencies"
   ]
  },
  {
   "cell_type": "markdown",
   "metadata": {},
   "source": [
    "#### 2) Computation of confusion matrix\n"
   ]
  },
  {
   "cell_type": "markdown",
   "metadata": {},
   "source": [
    "#### Conversion of the test dataframe into a matrix X"
   ]
  },
  {
   "cell_type": "markdown",
   "metadata": {},
   "source": [
    "#### Creation of the predict function"
   ]
  },
  {
   "cell_type": "code",
   "execution_count": 9,
   "metadata": {},
   "outputs": [],
   "source": [
    "def pdf(x, std, mean):\n",
    "    return (1/(np.sqrt(2*np.pi)*std))*np.exp(-((x-mean)**2)/(2*std**2))"
   ]
  },
  {
   "cell_type": "markdown",
   "metadata": {},
   "source": [
    "Reduction of variable name size to save space"
   ]
  },
  {
   "cell_type": "code",
   "execution_count": 10,
   "metadata": {},
   "outputs": [],
   "source": [
    "df = dictionnary_frequencies"
   ]
  },
  {
   "cell_type": "code",
   "execution_count": 11,
   "metadata": {},
   "outputs": [
    {
     "name": "stdout",
     "output_type": "stream",
     "text": [
      "list_predictions = [1, 1, 1, 0]\n",
      "Confusion matrix: \n",
      "[[0 1]\n",
      " [1 2]]\n"
     ]
    }
   ],
   "source": [
    "def predict_instance(i, df_test):\n",
    "    \"\"\" Make the prediction of the i-th instance in the test_dataframe\"\"\"\n",
    "    proba_yes = prod(df[c][df_test.iloc[i][c]]['yes'] for c in list_categorical_columns) * prod(pdf(df_test.iloc[i][c], df[c]['std_yes'], df[c]['mean_1']) for c in list_numerical_columns)\n",
    "    proba_no = prod(df[c][df_test.iloc[i][c]]['no'] for c in list_categorical_columns) * prod(pdf(df_test.iloc[i][c], df[c]['std_no'], df[c]['mean_0']) for c in list_numerical_columns)\n",
    "    proba_yes, proba_no = proba_yes/(proba_yes+proba_no), proba_no/(proba_yes+proba_no)\n",
    "    return 1 if proba_yes > proba_no else 0\n",
    "\n",
    "def predict(df_test):\n",
    "    \"\"\" Make the prediction on the whole test_dataframe\"\"\"\n",
    "    return [predict_instance(i, df_test) for i in range(len(df_test))]\n",
    "\n",
    "list_predictions = predict(df_test)\n",
    "print(f'list_predictions = {list_predictions}')\n",
    "cm = confusion_matrix(df_test[target].to_list(), list_predictions)\n",
    "print(f'Confusion matrix: \\n{cm}')"
   ]
  },
  {
   "cell_type": "markdown",
   "metadata": {},
   "source": [
    "The naive Bayse classifier outputs 2 True negative, 1 False Positive, 1 False negative."
   ]
  },
  {
   "cell_type": "markdown",
   "metadata": {},
   "source": [
    "#### 3)\n",
    "> 1. Missing data are of type skin, colour and size\n",
    "> 2. Missing data are not added in the computations of the statistics.\n",
    "> 3. Numerical values are processed using a Probability Distribution Function. We make the hypothesis that the numerical values are distributed according to a normal law."
   ]
  },
  {
   "cell_type": "markdown",
   "metadata": {},
   "source": [
    "#### 4)"
   ]
  },
  {
   "cell_type": "markdown",
   "metadata": {},
   "source": [
    "Just by looking at the training data, we see that samples with smooth hair are all negative. <br>\n",
    "Color red are all associated with a negative target. <br>\n",
    "A large size is associated with a negative target 1/3 of the time, and 2/3 of the time with a positive target. <br>\n",
    "The flesh hard is associated with only a positive target <br>\n",
    "The eats_shortbread is associated with a positive target 3/4 of the time, and 1/4 of the time with a negative target. <br>\n",
    "The length 3.25 is closer to values of length associated with a negative target. <br>\n",
    "Overall, the class prediction would be positive."
   ]
  },
  {
   "cell_type": "markdown",
   "metadata": {},
   "source": [
    "#### 5) 6)\n",
    "I used the train/test sets division since the beginning of my work. <br>\n",
    "> 6a.The sample of question 5 is classified as haggis, see the list_predictions above. <br>\n",
    "The confusion matrix is shown above. <br>\n",
    "> 6b. We get a 50% accuracy on this small test set."
   ]
  }
 ],
 "metadata": {
  "kernelspec": {
   "display_name": "Python 3",
   "language": "python",
   "name": "python3"
  },
  "language_info": {
   "codemirror_mode": {
    "name": "ipython",
    "version": 3
   },
   "file_extension": ".py",
   "mimetype": "text/x-python",
   "name": "python",
   "nbconvert_exporter": "python",
   "pygments_lexer": "ipython3",
   "version": "3.10.12"
  }
 },
 "nbformat": 4,
 "nbformat_minor": 2
}
