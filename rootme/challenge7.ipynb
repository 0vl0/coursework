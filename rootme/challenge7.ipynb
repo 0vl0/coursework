{
 "cells": [
  {
   "cell_type": "markdown",
   "metadata": {},
   "source": [
    "#### Challenge: [http://challenge01.root-me.org/programmation/ch7/](http://challenge01.root-me.org/programmation/ch7/)"
   ]
  },
  {
   "cell_type": "code",
   "execution_count": 9,
   "metadata": {},
   "outputs": [],
   "source": [
    "import requests \n",
    "from bs4 import BeautifulSoup\n",
    "import base64 \n",
    "from io import BytesIO\n",
    "from PIL import Image\n",
    "import pyzbar\n",
    "import cv2\n",
    "import numpy as np\n",
    "import matplotlib.pyplot as plt\n",
    "%matplotlib widget"
   ]
  },
  {
   "cell_type": "markdown",
   "metadata": {},
   "source": [
    "> Taille d'un carré: 9x9 <br>\n",
    "> start_y: 18.0 <br>\n",
    "> end_y: 281.0 <br>\n",
    "> start_x: 18.0 <br>\n",
    "> end_x: 281.0"
   ]
  },
  {
   "cell_type": "code",
   "execution_count": 21,
   "metadata": {},
   "outputs": [],
   "source": [
    "left = 18\n",
    "right = 281\n",
    "top = 18\n",
    "bottom = 281"
   ]
  },
  {
   "cell_type": "code",
   "execution_count": 5,
   "metadata": {},
   "outputs": [
    {
     "data": {
      "text/plain": [
       "\"<html><head></head><body><link rel='stylesheet' property='stylesheet' id='s' type='text/css' href='/template/s.css' media='all' /><iframe id='iframe' src='https://www.root-me.org/?page=externe_header'></iframe><p><p>Congratz, le flag est POHeyZ6pMvgn\\n</p></p><br/></body></html>\""
      ]
     },
     "execution_count": 5,
     "metadata": {},
     "output_type": "execute_result"
    }
   ],
   "source": [
    "import requests \n",
    "from bs4 import BeautifulSoup\n",
    "import numpy as np \n",
    "from pyzbar.pyzbar import decode\n",
    "import re\n",
    "import base64 \n",
    "from io import BytesIO\n",
    "from PIL import Image\n",
    "\n",
    "s = requests.Session()\n",
    "\n",
    "html_page = s.get('http://challenge01.root-me.org/programmation/ch7/')\n",
    "soup = BeautifulSoup(html_page.text, 'html.parser')\n",
    "img_tag = soup.find('img')\n",
    "img_src = img_tag.get('src')\n",
    "\n",
    "b64 = img_src.split(',')[1]\n",
    "image_bytes = base64.b64decode(b64)\n",
    "image_buffer = BytesIO(image_bytes)\n",
    "\n",
    "image = Image.open(image_buffer)\n",
    "img = np.array(image)\n",
    "\n",
    "def draw_marker(left, top, m):\n",
    "    \"\"\" \n",
    "    Draw the QR-code 7x7 square marker, with top left corner at (left, top).\n",
    "    *******\n",
    "    PARAMS:\n",
    "    m: image, represented as 2d numpy array\n",
    "    \"\"\"\n",
    "    square_size = 9\n",
    "    m[left:left+square_size-1, top:top+7*square_size-1] = [0,0,0]\n",
    "    m[left:left+7*square_size-1, top:top+square_size-1] = [0,0,0]\n",
    "    m[left+6*square_size:left+7*square_size-1, top:top+7*square_size-1] = [0,0,0]\n",
    "    m[left:left+7*square_size-1, top+6*square_size:top+7*square_size-1] = [0,0,0]\n",
    "    m[left+2*square_size:left+5*square_size, top+2*square_size:top+5*square_size] = [0,0,0]\n",
    "    return m\n",
    "\n",
    "left, right, top, bottom = 18, 281, 18, 281\n",
    "\n",
    "img = draw_marker(left, top, img)\n",
    "img = draw_marker(left, 220, img)\n",
    "img = draw_marker(220, top, img)\n",
    "\n",
    "decoded_objects = decode(img)\n",
    "key = re.search(r'The key is (.*)', decoded_objects[0].data.decode('utf-8')).groups(0)[0]\n",
    "\n",
    "response = s.post('http://challenge01.root-me.org/programmation/ch7/', data={\"metu\":key})\n",
    "response.text"
   ]
  }
 ],
 "metadata": {
  "kernelspec": {
   "display_name": "Python 3",
   "language": "python",
   "name": "python3"
  },
  "language_info": {
   "codemirror_mode": {
    "name": "ipython",
    "version": 3
   },
   "file_extension": ".py",
   "mimetype": "text/x-python",
   "name": "python",
   "nbconvert_exporter": "python",
   "pygments_lexer": "ipython3",
   "version": "3.10.12"
  }
 },
 "nbformat": 4,
 "nbformat_minor": 2
}
