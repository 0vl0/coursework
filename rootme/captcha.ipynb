{
 "cells": [
  {
   "cell_type": "markdown",
   "metadata": {},
   "source": [
    "#### Captcha solver\n",
    "#### Challenge: [http://challenge01.root-me.org/programmation/ch8/](http://challenge01.root-me.org/programmation/ch8/)"
   ]
  },
  {
   "cell_type": "code",
   "execution_count": 185,
   "metadata": {},
   "outputs": [
    {
     "name": "stdout",
     "output_type": "stream",
     "text": [
      "captcha = 6f8kw3eNxmpt\n"
     ]
    },
    {
     "data": {
      "text/plain": [
       "'6f8kw3eNxmpt'"
      ]
     },
     "execution_count": 185,
     "metadata": {},
     "output_type": "execute_result"
    }
   ],
   "source": [
    "from PIL import Image\n",
    "import base64 \n",
    "from io import BytesIO\n",
    "\n",
    "from bs4 import BeautifulSoup\n",
    "from selenium.webdriver.firefox.firefox_binary import FirefoxBinary\n",
    "from selenium.webdriver.firefox.options import Options\n",
    "from selenium.webdriver.firefox.service import Service\n",
    "from selenium import webdriver\n",
    "from selenium.webdriver.common.by import By\n",
    "from selenium.webdriver.firefox.options import Options\n",
    "from pytesseract import pytesseract\n",
    "\n",
    "options = Options()\n",
    "options.binary = FirefoxBinary(r'/bin/firefox')\n",
    "firefox_services = Service(executable_path='/home/vl/drivers/geckodriver-v0.34.0-linux64/geckodriver', service_args=['--marionette-port', '2828', '--connect-existing'])\n",
    "driver = webdriver.Firefox(service=firefox_services, options=options)\n",
    "\n",
    "\n",
    "driver.find_element(By.LINK_TEXT, 'Start the challenge').click()\n",
    "\n",
    "soup = BeautifulSoup(driver.page_source, 'html.parser')\n",
    "img_tag = soup.find('img')\n",
    "img_src = img_tag.get('src')\n",
    "\n",
    "b64 = img_src.split(',')[1]\n",
    "image_bytes = base64.b64decode(b64)\n",
    "image_buffer = BytesIO(image_bytes)\n",
    "\n",
    "image = Image.open(image_buffer)\n",
    "\n",
    "captcha = pytesseract.image_to_string(image).replace('\\n', '').replace('\\x0c', '')\n",
    "print(f'captcha = {captcha}')\n",
    "input_response = driver.find_element(By.CSS_SELECTOR, 'input[type=\"text\"][name=\"cametu\"]')\n",
    "for c in captcha:\n",
    "    input_response.send_keys(c)\n",
    "driver.find_element(By.CSS_SELECTOR, 'input[type=\"submit\"][value=\"Try\"]').click()"
   ]
  }
 ],
 "metadata": {
  "kernelspec": {
   "display_name": "Python 3",
   "language": "python",
   "name": "python3"
  },
  "language_info": {
   "codemirror_mode": {
    "name": "ipython",
    "version": 3
   },
   "file_extension": ".py",
   "mimetype": "text/x-python",
   "name": "python",
   "nbconvert_exporter": "python",
   "pygments_lexer": "ipython3",
   "version": "3.10.12"
  }
 },
 "nbformat": 4,
 "nbformat_minor": 2
}
