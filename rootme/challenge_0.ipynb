{
 "cells": [
  {
   "cell_type": "markdown",
   "metadata": {},
   "source": [
    "#### Challenge: [http://challenge01.root-me.org/programmation/ch1/](http://challenge01.root-me.org/programmation/ch1/)"
   ]
  },
  {
   "cell_type": "code",
   "execution_count": 93,
   "metadata": {},
   "outputs": [
    {
     "data": {
      "text/plain": [
       "'Congratz! The flag is : lFablYE9P1'"
      ]
     },
     "execution_count": 93,
     "metadata": {},
     "output_type": "execute_result"
    }
   ],
   "source": [
    "import requests \n",
    "import re \n",
    "from bs4 import BeautifulSoup\n",
    "\n",
    "s = requests.Session()\n",
    "html_page = s.get('http://challenge01.root-me.org/programmation/ch1/')\n",
    "\n",
    "soup = BeautifulSoup(html_page.text, 'html.parser')\n",
    "txt = soup.find('body').text\n",
    "split = txt.split('\\n')\n",
    "\n",
    "\n",
    "n1 = int(re.search(r'\\[ (.*) \\+ Un \\]', split[0]).groups(0)[0])\n",
    "n2 = int(re.search(r'\\[ n \\* (.*) \\]', split[0]).groups(0)[0])\n",
    "sign = re.search(r'\\] (.*) \\[', split[0]).groups(0)[0]\n",
    "u = int(re.search(r'U0 = (.*)', split[1]).groups(0)[0])\n",
    "index = int(re.search(r'You must find U(.*)You have only 2 seconds to ', split[2]).groups(0)[0])\n",
    "\n",
    "for n in range(index):\n",
    "    if sign == '+':\n",
    "        u = n1+u+(n*n2)\n",
    "    else:\n",
    "        u = n1+u-(n*n2)\n",
    "\n",
    "response = s.post(f'http://challenge01.root-me.org/programmation/ch1/ep1_v.php?result={u}')\n",
    "response.text.replace('\\n', '')"
   ]
  }
 ],
 "metadata": {
  "kernelspec": {
   "display_name": "Python 3",
   "language": "python",
   "name": "python3"
  },
  "language_info": {
   "codemirror_mode": {
    "name": "ipython",
    "version": 3
   },
   "file_extension": ".py",
   "mimetype": "text/x-python",
   "name": "python",
   "nbconvert_exporter": "python",
   "pygments_lexer": "ipython3",
   "version": "3.10.12"
  }
 },
 "nbformat": 4,
 "nbformat_minor": 2
}
