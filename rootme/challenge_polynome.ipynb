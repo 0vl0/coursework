{
 "cells": [
  {
   "cell_type": "markdown",
   "metadata": {},
   "source": [
    "#### Challenge: [challenge01.root-me.org](challenge01.root-me.org)"
   ]
  },
  {
   "cell_type": "code",
   "execution_count": 154,
   "metadata": {},
   "outputs": [
    {
     "data": {
      "text/plain": [
       "b'[+] Good job ! Here is your flag: P0lyNom35_4r3_e45y_Bruhh\\n'"
      ]
     },
     "execution_count": 154,
     "metadata": {},
     "output_type": "execute_result"
    }
   ],
   "source": [
    "import socket\n",
    "from math import sqrt\n",
    "import re\n",
    "\n",
    "s = socket.socket(socket.AF_INET, socket.SOCK_STREAM)\n",
    "s.connect(('challenge01.root-me.org', 52018))\n",
    "\n",
    "def solve_quadratic(a, b, c):\n",
    "    d = b**2 - 4*a*c\n",
    "    if d < 0:\n",
    "        return 'Not possible\\n'\n",
    "    elif d == 0: \n",
    "        return f'x: {round(-b/2*a,3)}\\n'\n",
    "    else:\n",
    "        x1, x2 = (-b + sqrt(d)) / (2 * a), (-b - sqrt(d)) / (2 * a)\n",
    "        return  f'x1: {round(x1,3)} ; x2: {round(x2,3)}\\n'\n",
    "\n",
    "for _ in range(25):\n",
    "    m = re.search(r'Solve this equation please: (.*).x² ([-+] .*).x¹ ([-+] .*) = ([+-]?.*)', s.recv(1024).decode('utf-8'))\n",
    "    a,b,c = eval((g:=m.groups(0))[0]), eval(g[1]), eval(g[2])-eval(g[3])\n",
    "    s.sendall(bytes(solve_quadratic(a,b,c), 'utf-8'))\n",
    "\n",
    "s.recv(1024)"
   ]
  }
 ],
 "metadata": {
  "kernelspec": {
   "display_name": "Python 3",
   "language": "python",
   "name": "python3"
  },
  "language_info": {
   "codemirror_mode": {
    "name": "ipython",
    "version": 3
   },
   "file_extension": ".py",
   "mimetype": "text/x-python",
   "name": "python",
   "nbconvert_exporter": "python",
   "pygments_lexer": "ipython3",
   "version": "3.10.12"
  }
 },
 "nbformat": 4,
 "nbformat_minor": 2
}
