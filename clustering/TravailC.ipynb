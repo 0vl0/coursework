{
 "cells": [
  {
   "cell_type": "markdown",
   "metadata": {},
   "source": [
    "#### Travail C"
   ]
  },
  {
   "cell_type": "code",
   "execution_count": 75,
   "metadata": {},
   "outputs": [],
   "source": [
    "import pandas as pd \n",
    "from sklearn.cluster import KMeans\n",
    "import numpy as np \n",
    "from sklearn import preprocessing\n",
    "import math\n",
    "import collections\n",
    "%config InteractiveShell.ast_node_interactivity='last_expr_or_assign'\n",
    "from matplotlib.pyplot import matshow\n",
    "import matplotlib.pyplot as plt \n",
    "from sklearn.model_selection import train_test_split\n",
    "from sklearn.metrics import confusion_matrix"
   ]
  },
  {
   "cell_type": "markdown",
   "metadata": {},
   "source": [
    "> Chargement des données"
   ]
  },
  {
   "cell_type": "code",
   "execution_count": 6,
   "metadata": {},
   "outputs": [
    {
     "data": {
      "text/html": [
       "<div>\n",
       "<style scoped>\n",
       "    .dataframe tbody tr th:only-of-type {\n",
       "        vertical-align: middle;\n",
       "    }\n",
       "\n",
       "    .dataframe tbody tr th {\n",
       "        vertical-align: top;\n",
       "    }\n",
       "\n",
       "    .dataframe thead th {\n",
       "        text-align: right;\n",
       "    }\n",
       "</style>\n",
       "<table border=\"1\" class=\"dataframe\">\n",
       "  <thead>\n",
       "    <tr style=\"text-align: right;\">\n",
       "      <th></th>\n",
       "      <th>age</th>\n",
       "      <th>sex</th>\n",
       "      <th>region</th>\n",
       "      <th>income</th>\n",
       "      <th>married</th>\n",
       "      <th>children</th>\n",
       "      <th>car</th>\n",
       "      <th>save_act</th>\n",
       "      <th>current_act</th>\n",
       "      <th>mortgage</th>\n",
       "      <th>pep</th>\n",
       "    </tr>\n",
       "  </thead>\n",
       "  <tbody>\n",
       "    <tr>\n",
       "      <th>0</th>\n",
       "      <td>48</td>\n",
       "      <td>FEMALE</td>\n",
       "      <td>INNER_CITY</td>\n",
       "      <td>17546.0</td>\n",
       "      <td>NO</td>\n",
       "      <td>1</td>\n",
       "      <td>NO</td>\n",
       "      <td>NO</td>\n",
       "      <td>NO</td>\n",
       "      <td>NO</td>\n",
       "      <td>YES</td>\n",
       "    </tr>\n",
       "    <tr>\n",
       "      <th>1</th>\n",
       "      <td>40</td>\n",
       "      <td>MALE</td>\n",
       "      <td>TOWN</td>\n",
       "      <td>30085.1</td>\n",
       "      <td>YES</td>\n",
       "      <td>3</td>\n",
       "      <td>YES</td>\n",
       "      <td>NO</td>\n",
       "      <td>YES</td>\n",
       "      <td>YES</td>\n",
       "      <td>NO</td>\n",
       "    </tr>\n",
       "  </tbody>\n",
       "</table>\n",
       "</div>"
      ],
      "text/plain": [
       "   age     sex      region   income married  children  car save_act  \\\n",
       "0   48  FEMALE  INNER_CITY  17546.0      NO         1   NO       NO   \n",
       "1   40    MALE        TOWN  30085.1     YES         3  YES       NO   \n",
       "\n",
       "  current_act mortgage  pep  \n",
       "0          NO       NO  YES  \n",
       "1         YES      YES   NO  "
      ]
     },
     "execution_count": 6,
     "metadata": {},
     "output_type": "execute_result"
    }
   ],
   "source": [
    "path_bank = './bank-data.csv'\n",
    "df_bank = pd.read_csv(path_bank)\n",
    "df_bank.drop('id', axis=1, inplace=True)\n",
    "df_bank.head(2)"
   ]
  },
  {
   "cell_type": "markdown",
   "metadata": {},
   "source": [
    "> Scikit-learn ne gère pas les données nominales, il faut les transformer. <br>\n",
    "Un premier mapping est utilisé pour que toutes les colonnes aient le type int."
   ]
  },
  {
   "cell_type": "code",
   "execution_count": 7,
   "metadata": {},
   "outputs": [
    {
     "data": {
      "text/plain": [
       "{'FEMALE': 0,\n",
       " 'MALE': 1,\n",
       " 'INNER_CITY': 0,\n",
       " 'RURAL': 1,\n",
       " 'SUBURBAN': 2,\n",
       " 'TOWN': 3,\n",
       " 'NO': 0,\n",
       " 'YES': 1}"
      ]
     },
     "execution_count": 7,
     "metadata": {},
     "output_type": "execute_result"
    }
   ],
   "source": [
    "mappings = {}\n",
    "categorical_columns = [c for i, c in enumerate(df_bank.columns) if df_bank.dtypes[i] == object]\n",
    "for i, c in enumerate(df_bank.columns):\n",
    "    if df_bank.dtypes[i] == object:\n",
    "        for j, x in enumerate(np.unique(df_bank[c])):\n",
    "            mappings[x] = j\n",
    "mappings"
   ]
  },
  {
   "cell_type": "code",
   "execution_count": 8,
   "metadata": {},
   "outputs": [
    {
     "data": {
      "text/html": [
       "<div>\n",
       "<style scoped>\n",
       "    .dataframe tbody tr th:only-of-type {\n",
       "        vertical-align: middle;\n",
       "    }\n",
       "\n",
       "    .dataframe tbody tr th {\n",
       "        vertical-align: top;\n",
       "    }\n",
       "\n",
       "    .dataframe thead th {\n",
       "        text-align: right;\n",
       "    }\n",
       "</style>\n",
       "<table border=\"1\" class=\"dataframe\">\n",
       "  <thead>\n",
       "    <tr style=\"text-align: right;\">\n",
       "      <th></th>\n",
       "      <th>age</th>\n",
       "      <th>sex</th>\n",
       "      <th>region</th>\n",
       "      <th>income</th>\n",
       "      <th>married</th>\n",
       "      <th>children</th>\n",
       "      <th>car</th>\n",
       "      <th>save_act</th>\n",
       "      <th>current_act</th>\n",
       "      <th>mortgage</th>\n",
       "      <th>pep</th>\n",
       "    </tr>\n",
       "  </thead>\n",
       "  <tbody>\n",
       "    <tr>\n",
       "      <th>0</th>\n",
       "      <td>48</td>\n",
       "      <td>0</td>\n",
       "      <td>0</td>\n",
       "      <td>17546.0</td>\n",
       "      <td>0</td>\n",
       "      <td>1</td>\n",
       "      <td>0</td>\n",
       "      <td>0</td>\n",
       "      <td>0</td>\n",
       "      <td>0</td>\n",
       "      <td>1</td>\n",
       "    </tr>\n",
       "    <tr>\n",
       "      <th>1</th>\n",
       "      <td>40</td>\n",
       "      <td>1</td>\n",
       "      <td>3</td>\n",
       "      <td>30085.1</td>\n",
       "      <td>1</td>\n",
       "      <td>3</td>\n",
       "      <td>1</td>\n",
       "      <td>0</td>\n",
       "      <td>1</td>\n",
       "      <td>1</td>\n",
       "      <td>0</td>\n",
       "    </tr>\n",
       "  </tbody>\n",
       "</table>\n",
       "</div>"
      ],
      "text/plain": [
       "   age  sex  region   income  married  children  car  save_act  current_act  \\\n",
       "0   48    0       0  17546.0        0         1    0         0            0   \n",
       "1   40    1       3  30085.1        1         3    1         0            1   \n",
       "\n",
       "   mortgage  pep  \n",
       "0         0    1  \n",
       "1         1    0  "
      ]
     },
     "execution_count": 8,
     "metadata": {},
     "output_type": "execute_result"
    }
   ],
   "source": [
    "df_bank[categorical_columns] = df_bank[categorical_columns].transform(lambda x: x.apply(lambda c: mappings[c]))\n",
    "df_bank.head(2)"
   ]
  },
  {
   "cell_type": "code",
   "execution_count": 9,
   "metadata": {},
   "outputs": [],
   "source": [
    "X, y = df_bank[df_bank.columns[:-1]], df_bank[df_bank.columns[-1]]"
   ]
  },
  {
   "cell_type": "markdown",
   "metadata": {},
   "source": [
    "> Preprocessing: les données sont normalisées avant calcul des clusters, pour que les distances intra-features soient similaires"
   ]
  },
  {
   "cell_type": "code",
   "execution_count": 10,
   "metadata": {},
   "outputs": [
    {
     "data": {
      "text/plain": [
       "array([[ 0.38888715, -1.        , -0.95846483, ..., -1.49191369,\n",
       "        -1.77142063, -0.73111343],\n",
       "       [-0.16617033,  1.        ,  1.37609091, ..., -1.49191369,\n",
       "         0.56451866,  1.36777681],\n",
       "       [ 0.59703371, -1.        , -0.95846483, ...,  0.67028006,\n",
       "         0.56451866, -0.73111343],\n",
       "       ...,\n",
       "       [-0.79061001, -1.        ,  1.37609091, ...,  0.67028006,\n",
       "        -1.77142063, -0.73111343],\n",
       "       [-0.92937438,  1.        , -0.95846483, ...,  0.67028006,\n",
       "        -1.77142063,  1.36777681],\n",
       "       [-0.30493471,  1.        ,  1.37609091, ..., -1.49191369,\n",
       "         0.56451866,  1.36777681]])"
      ]
     },
     "execution_count": 10,
     "metadata": {},
     "output_type": "execute_result"
    }
   ],
   "source": [
    "scaler = preprocessing.StandardScaler().fit(X)\n",
    "X_scaled = scaler.transform(X)"
   ]
  },
  {
   "cell_type": "markdown",
   "metadata": {},
   "source": [
    "> Application de la méthode de clustering"
   ]
  },
  {
   "cell_type": "code",
   "execution_count": 16,
   "metadata": {},
   "outputs": [
    {
     "data": {
      "text/plain": [
       "Counter({4: 149, 1: 132, 0: 125, 3: 88, 2: 59, 5: 47})"
      ]
     },
     "execution_count": 16,
     "metadata": {},
     "output_type": "execute_result"
    }
   ],
   "source": [
    "simple_kmeans = KMeans(n_clusters=6, init='random', n_init='auto').fit(X)\n",
    "centroids = simple_kmeans.cluster_centers_\n",
    "clusters = simple_kmeans.labels_\n",
    "cluster_counter = collections.Counter(clusters)"
   ]
  },
  {
   "cell_type": "markdown",
   "metadata": {},
   "source": [
    "> Pour réduire le nombre de clusters, on va calculer les distances inter-clusters, avec pour représentants les centroids."
   ]
  },
  {
   "cell_type": "code",
   "execution_count": 12,
   "metadata": {},
   "outputs": [
    {
     "data": {
      "text/plain": [
       "[[0.0,\n",
       "  19080.218956408033,\n",
       "  10106.316023647145,\n",
       "  42476.0884262751,\n",
       "  27479.588420566564,\n",
       "  34925.56129848882],\n",
       " [19080.218956408033,\n",
       "  0.0,\n",
       "  8973.902976955234,\n",
       "  23395.869964019224,\n",
       "  8399.369508251904,\n",
       "  15845.342404060348],\n",
       " [10106.316023647145,\n",
       "  8973.902976955234,\n",
       "  0.0,\n",
       "  32369.77273631304,\n",
       "  17373.272410633355,\n",
       "  24819.24536447036],\n",
       " [42476.0884262751,\n",
       "  23395.869964019224,\n",
       "  32369.77273631304,\n",
       "  0.0,\n",
       "  14996.501623578188,\n",
       "  7550.528445634105],\n",
       " [27479.588420566564,\n",
       "  8399.369508251904,\n",
       "  17373.272410633355,\n",
       "  14996.501623578188,\n",
       "  0.0,\n",
       "  7445.973380565248],\n",
       " [34925.56129848882,\n",
       "  15845.342404060348,\n",
       "  24819.24536447036,\n",
       "  7550.528445634105,\n",
       "  7445.973380565248,\n",
       "  0.0]]"
      ]
     },
     "execution_count": 12,
     "metadata": {},
     "output_type": "execute_result"
    }
   ],
   "source": [
    "def L2_distance(x,y):\n",
    "    return math.sqrt(sum((a-b)**2 for a,b in zip(x,y)))\n",
    "distance_matrix = [[L2_distance(x,y) for x in centroids] for y in centroids]"
   ]
  },
  {
   "cell_type": "markdown",
   "metadata": {},
   "source": [
    "> Ensuite, on connecte les clusters qui ont une distance inférieure à 10.000. <br>\n",
    "> Le problème devient un problème de graphe. <br>\n",
    "> J'utilise ici une méthode générale pour trouver les composantes connectées d'un graphe: la structure de données Union Find. <br>\n",
    "> Bien entendu comme on n'a que 6 clusters on aurait pu se contenter de regarder la matrice de distance, mais la méthode que j'utlise s'applique à un nombre arbitraire de clusters. <br>\n",
    "> J'utilise les optimisations union by rank et path compression."
   ]
  },
  {
   "cell_type": "code",
   "execution_count": 59,
   "metadata": {},
   "outputs": [
    {
     "data": {
      "text/plain": [
       "defaultdict(list, {0: [0], 1: [1, 2, 3, 4, 5]})"
      ]
     },
     "execution_count": 59,
     "metadata": {},
     "output_type": "execute_result"
    }
   ],
   "source": [
    "class UnionFind():\n",
    "    def __init__(self, size):\n",
    "        self.size = size \n",
    "        self.root = [i for i in range(self.size)]\n",
    "        self.rank = [1 for _ in range(self.size)]\n",
    "\n",
    "    def find(self, x):\n",
    "        if x != self.root[x]:\n",
    "            self.root[x] = self.find(self.root[x])\n",
    "        return self.root[x]\n",
    "    \n",
    "    def union(self, x, y):\n",
    "        root_x, root_y = self.root[x], self.root[y]\n",
    "        if root_x != root_y: \n",
    "            if self.rank[root_x] > self.rank[root_y]:\n",
    "                self.root[root_y] = self.root[root_x]\n",
    "            elif self.rank[root_y] < self.rank[root_x]:\n",
    "                self.root[root_x] = self.root[root_y]\n",
    "            else:\n",
    "                self.rank[root_x] += 1 \n",
    "                self.root[root_y] = self.root[root_x]\n",
    "    \n",
    "    def is_connected(self, x, y):\n",
    "        return self.find(x) == self.find(y)\n",
    "    \n",
    "    def get_clusters(self):\n",
    "        clusters = collections.defaultdict(list)\n",
    "        for i in range(self.size):\n",
    "            self.find(i)\n",
    "        for i, r in enumerate(self.root):\n",
    "            clusters[r].append(i)\n",
    "        return clusters\n",
    "\n",
    "UF = UnionFind(6)\n",
    "for i in range(6):\n",
    "    for j in range(i+1, 6):\n",
    "        if distance_matrix[i][j] <= 10000:\n",
    "            UF.union(i,j)\n",
    "\n",
    "new_clusters = UF.get_clusters()"
   ]
  },
  {
   "cell_type": "markdown",
   "metadata": {},
   "source": [
    "> On voit que la méthode avec la matrice de distance ne semble pas fonctionner. <br>\n",
    "> On a émis l'hypothèse d'une transitivité de la connection entre clusters, cependant elle est probablement fausse. <br> \n",
    "> A peut etre proche de B et B proche de C sans que A soit proche de C."
   ]
  },
  {
   "cell_type": "markdown",
   "metadata": {},
   "source": [
    "> On peut afficher la matrice de distance pour expliquer le phénomène."
   ]
  },
  {
   "cell_type": "code",
   "execution_count": 60,
   "metadata": {},
   "outputs": [
    {
     "data": {
      "text/plain": [
       "array([[    -0.        , -19080.21895641, -10106.31602365,\n",
       "        -42476.08842628, -27479.58842057, -34925.56129849],\n",
       "       [-19080.21895641,     -0.        ,  -8973.90297696,\n",
       "        -23395.86996402,  -8399.36950825, -15845.34240406],\n",
       "       [-10106.31602365,  -8973.90297696,     -0.        ,\n",
       "        -32369.77273631, -17373.27241063, -24819.24536447],\n",
       "       [-42476.08842628, -23395.86996402, -32369.77273631,\n",
       "            -0.        , -14996.50162358,  -7550.52844563],\n",
       "       [-27479.58842057,  -8399.36950825, -17373.27241063,\n",
       "        -14996.50162358,     -0.        ,  -7445.97338057],\n",
       "       [-34925.56129849, -15845.34240406, -24819.24536447,\n",
       "         -7550.52844563,  -7445.97338057,     -0.        ]])"
      ]
     },
     "execution_count": 60,
     "metadata": {},
     "output_type": "execute_result"
    }
   ],
   "source": [
    "distance_np_matrix = np.asarray(distance_matrix)\n",
    "distance_np_matrix *= -1"
   ]
  },
  {
   "cell_type": "code",
   "execution_count": 63,
   "metadata": {},
   "outputs": [
    {
     "data": {
      "text/plain": [
       "([<matplotlib.axis.YTick at 0x7fc93aefa950>,\n",
       "  <matplotlib.axis.YTick at 0x7fc93aefa170>,\n",
       "  <matplotlib.axis.YTick at 0x7fc93aef81f0>,\n",
       "  <matplotlib.axis.YTick at 0x7fc93ad38220>,\n",
       "  <matplotlib.axis.YTick at 0x7fc93ad0f5b0>,\n",
       "  <matplotlib.axis.YTick at 0x7fc93ad0e5f0>],\n",
       " [Text(0, 0, '1'),\n",
       "  Text(0, 1, '2'),\n",
       "  Text(0, 2, '3'),\n",
       "  Text(0, 3, '4'),\n",
       "  Text(0, 4, '5'),\n",
       "  Text(0, 5, '6')])"
      ]
     },
     "execution_count": 63,
     "metadata": {},
     "output_type": "execute_result"
    },
    {
     "data": {
      "image/png": "[encoded data removed]",
      "text/plain": [
       "<Figure size 480x480 with 1 Axes>"
      ]
     },
     "metadata": {},
     "output_type": "display_data"
    }
   ],
   "source": [
    "matshow(distance_np_matrix, cmap='Reds')\n",
    "plt.xticks(np.arange(6), np.arange(1, 7))\n",
    "plt.yticks(np.arange(6), np.arange(1, 7))"
   ]
  },
  {
   "cell_type": "markdown",
   "metadata": {},
   "source": [
    "> Voici ce quelques informations qu'on peut extraire de la matrice de distances: <br>\n",
    ">> ligne 1: {1,3} <br>\n",
    ">> ligne 2: {2,5}, {2,3} <br>\n",
    ">> ligne 3: {3,1}, {3,2} <br>\n",
    ">> ligne 4: {4,6}, {4,5} <br>\n",
    ">> ligne 5: {5,6}, {5,2} <br>\n",
    ">> ligne 6: {6,5}, {6,4} <br>\n",
    "\n",
    "Cela donne par transitivité:\n",
    "> {1,3,2,5,4,6}\n",
    "\n",
    "> On peut tenter de limiter au cluster le plus proche pour voir si cela règle le problème."
   ]
  },
  {
   "cell_type": "code",
   "execution_count": 64,
   "metadata": {},
   "outputs": [],
   "source": [
    "for i in range(6): distance_np_matrix[i,i] = -math.inf\n",
    "UF = UnionFind(6)\n",
    "for i in range(5):\n",
    "    UF.union(i, np.argmax(distance_np_matrix[i,:]))"
   ]
  },
  {
   "cell_type": "code",
   "execution_count": 65,
   "metadata": {},
   "outputs": [
    {
     "data": {
      "text/plain": [
       "defaultdict(list, {0: [0, 1, 2, 3, 4, 5]})"
      ]
     },
     "execution_count": 65,
     "metadata": {},
     "output_type": "execute_result"
    }
   ],
   "source": [
    "new_clusters = UF.get_clusters()"
   ]
  },
  {
   "cell_type": "markdown",
   "metadata": {},
   "source": [
    "> On obtient de nouveau un seul cluster !\n",
    "> Il semble que la distance euclidienne sur les données normalisées ne permette pas de bien regrouper les clusters..."
   ]
  },
  {
   "cell_type": "markdown",
   "metadata": {},
   "source": [
    "> Limitation à 3 clusters"
   ]
  },
  {
   "cell_type": "code",
   "execution_count": 67,
   "metadata": {},
   "outputs": [
    {
     "data": {
      "text/plain": [
       "Counter({1: 273, 0: 221, 2: 106})"
      ]
     },
     "execution_count": 67,
     "metadata": {},
     "output_type": "execute_result"
    }
   ],
   "source": [
    "simple_kmeans_2 = KMeans(n_clusters=3, init='random', n_init='auto').fit(X)\n",
    "centroids = simple_kmeans_2.cluster_centers_\n",
    "clusters = simple_kmeans_2.labels_\n",
    "cluster_counter = collections.Counter(clusters)"
   ]
  },
  {
   "cell_type": "markdown",
   "metadata": {},
   "source": [
    "> En observant les nombres d'éléments dans les clusters, il semble que les nouveaux cluster corerspondent à:\n",
    ">> 3': 3+6 <br>\n",
    ">> 1': 2+4 <br>\n",
    ">> 2': 1+5 <br>\n",
    "\n",
    "> Ces associations ne correspondent pas aux centroids les plus proches deux à deux pour la distance euclidienne sur les données normalisées ! <br>\n",
    "> Il faudrait peut-être calculer la distance inter-clusters avec les médoids."
   ]
  },
  {
   "cell_type": "markdown",
   "metadata": {},
   "source": [
    "> Suite <br>"
   ]
  },
  {
   "cell_type": "code",
   "execution_count": 86,
   "metadata": {},
   "outputs": [
    {
     "data": {
      "text/html": [
       "<style>#sk-container-id-4 {color: black;}#sk-container-id-4 pre{padding: 0;}#sk-container-id-4 div.sk-toggleable {background-color: white;}#sk-container-id-4 label.sk-toggleable__label {cursor: pointer;display: block;width: 100%;margin-bottom: 0;padding: 0.3em;box-sizing: border-box;text-align: center;}#sk-container-id-4 label.sk-toggleable__label-arrow:before {content: \"▸\";float: left;margin-right: 0.25em;color: #696969;}#sk-container-id-4 label.sk-toggleable__label-arrow:hover:before {color: black;}#sk-container-id-4 div.sk-estimator:hover label.sk-toggleable__label-arrow:before {color: black;}#sk-container-id-4 div.sk-toggleable__content {max-height: 0;max-width: 0;overflow: hidden;text-align: left;background-color: #f0f8ff;}#sk-container-id-4 div.sk-toggleable__content pre {margin: 0.2em;color: black;border-radius: 0.25em;background-color: #f0f8ff;}#sk-container-id-4 input.sk-toggleable__control:checked~div.sk-toggleable__content {max-height: 200px;max-width: 100%;overflow: auto;}#sk-container-id-4 input.sk-toggleable__control:checked~label.sk-toggleable__label-arrow:before {content: \"▾\";}#sk-container-id-4 div.sk-estimator input.sk-toggleable__control:checked~label.sk-toggleable__label {background-color: #d4ebff;}#sk-container-id-4 div.sk-label input.sk-toggleable__control:checked~label.sk-toggleable__label {background-color: #d4ebff;}#sk-container-id-4 input.sk-hidden--visually {border: 0;clip: rect(1px 1px 1px 1px);clip: rect(1px, 1px, 1px, 1px);height: 1px;margin: -1px;overflow: hidden;padding: 0;position: absolute;width: 1px;}#sk-container-id-4 div.sk-estimator {font-family: monospace;background-color: #f0f8ff;border: 1px dotted black;border-radius: 0.25em;box-sizing: border-box;margin-bottom: 0.5em;}#sk-container-id-4 div.sk-estimator:hover {background-color: #d4ebff;}#sk-container-id-4 div.sk-parallel-item::after {content: \"\";width: 100%;border-bottom: 1px solid gray;flex-grow: 1;}#sk-container-id-4 div.sk-label:hover label.sk-toggleable__label {background-color: #d4ebff;}#sk-container-id-4 div.sk-serial::before {content: \"\";position: absolute;border-left: 1px solid gray;box-sizing: border-box;top: 0;bottom: 0;left: 50%;z-index: 0;}#sk-container-id-4 div.sk-serial {display: flex;flex-direction: column;align-items: center;background-color: white;padding-right: 0.2em;padding-left: 0.2em;position: relative;}#sk-container-id-4 div.sk-item {position: relative;z-index: 1;}#sk-container-id-4 div.sk-parallel {display: flex;align-items: stretch;justify-content: center;background-color: white;position: relative;}#sk-container-id-4 div.sk-item::before, #sk-container-id-4 div.sk-parallel-item::before {content: \"\";position: absolute;border-left: 1px solid gray;box-sizing: border-box;top: 0;bottom: 0;left: 50%;z-index: -1;}#sk-container-id-4 div.sk-parallel-item {display: flex;flex-direction: column;z-index: 1;position: relative;background-color: white;}#sk-container-id-4 div.sk-parallel-item:first-child::after {align-self: flex-end;width: 50%;}#sk-container-id-4 div.sk-parallel-item:last-child::after {align-self: flex-start;width: 50%;}#sk-container-id-4 div.sk-parallel-item:only-child::after {width: 0;}#sk-container-id-4 div.sk-dashed-wrapped {border: 1px dashed gray;margin: 0 0.4em 0.5em 0.4em;box-sizing: border-box;padding-bottom: 0.4em;background-color: white;}#sk-container-id-4 div.sk-label label {font-family: monospace;font-weight: bold;display: inline-block;line-height: 1.2em;}#sk-container-id-4 div.sk-label-container {text-align: center;}#sk-container-id-4 div.sk-container {/* jupyter's `normalize.less` sets `[hidden] { display: none; }` but bootstrap.min.css set `[hidden] { display: none !important; }` so we also need the `!important` here to be able to override the default hidden behavior on the sphinx rendered scikit-learn.org. See: https://github.com/scikit-learn/scikit-learn/issues/21755 */display: inline-block !important;position: relative;}#sk-container-id-4 div.sk-text-repr-fallback {display: none;}</style><div id=\"sk-container-id-4\" class=\"sk-top-container\"><div class=\"sk-text-repr-fallback\"><pre>KMeans(init=&#x27;random&#x27;, n_clusters=2, n_init=&#x27;auto&#x27;, random_state=0)</pre><b>In a Jupyter environment, please rerun this cell to show the HTML representation or trust the notebook. <br />On GitHub, the HTML representation is unable to render, please try loading this page with nbviewer.org.</b></div><div class=\"sk-container\" hidden><div class=\"sk-item\"><div class=\"sk-estimator sk-toggleable\"><input class=\"sk-toggleable__control sk-hidden--visually\" id=\"sk-estimator-id-4\" type=\"checkbox\" checked><label for=\"sk-estimator-id-4\" class=\"sk-toggleable__label sk-toggleable__label-arrow\">KMeans</label><div class=\"sk-toggleable__content\"><pre>KMeans(init=&#x27;random&#x27;, n_clusters=2, n_init=&#x27;auto&#x27;, random_state=0)</pre></div></div></div></div></div>"
      ],
      "text/plain": [
       "KMeans(init='random', n_clusters=2, n_init='auto', random_state=0)"
      ]
     },
     "execution_count": 86,
     "metadata": {},
     "output_type": "execute_result"
    }
   ],
   "source": [
    "X_train, X_test, y_train, y_test = train_test_split(X, y, test_size=0.1)\n",
    "kmeans = KMeans(n_clusters=2, random_state=0, init='random', n_init='auto').fit(X_train)"
   ]
  },
  {
   "cell_type": "markdown",
   "metadata": {},
   "source": [
    "> Je reprends les mêmes fonctions que pour DBScan même si ici il n'y pas de d'instances non classifiées."
   ]
  },
  {
   "cell_type": "code",
   "execution_count": 87,
   "metadata": {},
   "outputs": [],
   "source": [
    "def get_global_accuracy(y_true, y_pred):\n",
    "    \"\"\" \n",
    "    Get accuracy by considering that an instance without cluster is wrongly classified\n",
    "    \"\"\"\n",
    "    return max(sum(x == y for x,y in zip(y_true, y_pred) if y in [0,1]), sum(x != y for x,y in zip(y_true, y_pred) if y in [0,1])) / len(y_pred)"
   ]
  },
  {
   "cell_type": "code",
   "execution_count": 88,
   "metadata": {},
   "outputs": [
    {
     "name": "stdout",
     "output_type": "stream",
     "text": [
      "train accuracy: 0.587037037037037\n",
      "confusion matrix: \n",
      "[[219  72]\n",
      " [151  98]]\n",
      "Number not classified: 0\n"
     ]
    }
   ],
   "source": [
    "train_acc = get_global_accuracy(y_train, kmeans.labels_)\n",
    "labels_true_pred = [(t,p)for t,p in zip(y_train, kmeans.labels_) if p != -1]\n",
    "cm = confusion_matrix([x[0] for x in labels_true_pred], [abs(x[1]-1) for x in labels_true_pred])\n",
    "print(f'train accuracy: {train_acc}\\nconfusion matrix: \\n{cm}')\n",
    "print(f'Number not classified: {sum(x == -1 for x in kmeans.labels_)}')"
   ]
  },
  {
   "cell_type": "code",
   "execution_count": 89,
   "metadata": {},
   "outputs": [
    {
     "name": "stdout",
     "output_type": "stream",
     "text": [
      "test accuracy: 0.6666666666666666\n",
      "confusion matrix: \n",
      "[[28  7]\n",
      " [13 12]]\n",
      "Number not classified: 0\n"
     ]
    }
   ],
   "source": [
    "y_pred_test = kmeans.predict(X_test)\n",
    "test_acc = get_global_accuracy(y_test, y_pred_test)\n",
    "labels_true_pred = [(t,p)for t,p in zip(y_test, y_pred_test) if p != -1]\n",
    "cm = confusion_matrix([x[0] for x in labels_true_pred], [abs(x[1]-1) for x in labels_true_pred])\n",
    "print(f'test accuracy: {test_acc}\\nconfusion matrix: \\n{cm}')\n",
    "print(f'Number not classified: {sum(x == -1 for x in kmeans.labels_)}')"
   ]
  },
  {
   "cell_type": "markdown",
   "metadata": {},
   "source": [
    "> Utilisation de l'initialisation kmeans++ (farthest first améliorée)"
   ]
  },
  {
   "cell_type": "code",
   "execution_count": 93,
   "metadata": {},
   "outputs": [
    {
     "name": "stdout",
     "output_type": "stream",
     "text": [
      "train accuracy: 0.5851851851851851\n",
      "confusion matrix: \n",
      "[[ 72 219]\n",
      " [ 97 152]]\n",
      "Number not classified: 0\n",
      "test accuracy: 0.6666666666666666\n",
      "confusion matrix: \n",
      "[[ 7 28]\n",
      " [12 13]]\n",
      "Number not classified: 0\n"
     ]
    }
   ],
   "source": [
    "kmeans_pplus = KMeans(n_clusters=2, random_state=0, init='k-means++', n_init='auto').fit(X_train)\n",
    "\n",
    "train_acc = get_global_accuracy(y_train, kmeans_pplus.labels_)\n",
    "labels_true_pred = [(t,p)for t,p in zip(y_train, kmeans_pplus.labels_) if p != -1]\n",
    "cm = confusion_matrix([x[0] for x in labels_true_pred], [abs(x[1]-1) for x in labels_true_pred])\n",
    "print(f'train accuracy: {train_acc}\\nconfusion matrix: \\n{cm}')\n",
    "print(f'Number not classified: {sum(x == -1 for x in kmeans_pplus.labels_)}')\n",
    "\n",
    "y_pred_test = kmeans_pplus.predict(X_test)\n",
    "test_acc = get_global_accuracy(y_test, y_pred_test)\n",
    "labels_true_pred = [(t,p)for t,p in zip(y_test, y_pred_test) if p != -1]\n",
    "cm = confusion_matrix([x[0] for x in labels_true_pred], [abs(x[1]-1) for x in labels_true_pred])\n",
    "print(f'test accuracy: {test_acc}\\nconfusion matrix: \\n{cm}')\n",
    "print(f'Number not classified: {sum(x == -1 for x in kmeans_pplus.labels_)}')"
   ]
  },
  {
   "cell_type": "markdown",
   "metadata": {},
   "source": [
    "> Les accuracy sont les mêmes, les matrices de confusion ont changé."
   ]
  }
 ],
 "metadata": {
  "kernelspec": {
   "display_name": "Python 3",
   "language": "python",
   "name": "python3"
  },
  "language_info": {
   "codemirror_mode": {
    "name": "ipython",
    "version": 3
   },
   "file_extension": ".py",
   "mimetype": "text/x-python",
   "name": "python",
   "nbconvert_exporter": "python",
   "pygments_lexer": "ipython3",
   "version": "3.10.12"
  }
 },
 "nbformat": 4,
 "nbformat_minor": 2
}
