{
 "cells": [
  {
   "cell_type": "markdown",
   "metadata": {},
   "source": [
    "#### Travail A"
   ]
  },
  {
   "cell_type": "code",
   "execution_count": 43,
   "metadata": {},
   "outputs": [],
   "source": [
    "import pandas as pd\n",
    "from sklearn.model_selection import train_test_split\n",
    "from sklearn.cluster import KMeans\n",
    "from sklearn import metrics\n",
    "import numpy as np\n",
    "np.set_printoptions(formatter={'float': lambda x: \"{0:0.2f}\".format(x)})\n",
    "import numpy as np\n",
    "from sklearn.metrics import confusion_matrix, classification_report, accuracy_score\n",
    "%config InteractiveShell.ast_node_interactivity='last_expr_or_assign'"
   ]
  },
  {
   "cell_type": "markdown",
   "metadata": {},
   "source": [
    "> J'ai fait les exercices qu'il est possible de faire python."
   ]
  },
  {
   "cell_type": "markdown",
   "metadata": {},
   "source": [
    "#### K-means et Farthest First sur la BD. Weather"
   ]
  },
  {
   "cell_type": "markdown",
   "metadata": {},
   "source": [
    "J'ai changé rendu la dernière colonne binaire afin de pouvoir calculer le score du clustering."
   ]
  },
  {
   "cell_type": "code",
   "execution_count": 2,
   "metadata": {},
   "outputs": [
    {
     "data": {
      "text/html": [
       "<div>\n",
       "<style scoped>\n",
       "    .dataframe tbody tr th:only-of-type {\n",
       "        vertical-align: middle;\n",
       "    }\n",
       "\n",
       "    .dataframe tbody tr th {\n",
       "        vertical-align: top;\n",
       "    }\n",
       "\n",
       "    .dataframe thead th {\n",
       "        text-align: right;\n",
       "    }\n",
       "</style>\n",
       "<table border=\"1\" class=\"dataframe\">\n",
       "  <thead>\n",
       "    <tr style=\"text-align: right;\">\n",
       "      <th></th>\n",
       "      <th>outlook=sunny</th>\n",
       "      <th>outlook=overcast</th>\n",
       "      <th>outlook=rainy</th>\n",
       "      <th>temperature=hot</th>\n",
       "      <th>temperature=mild</th>\n",
       "      <th>temperature=cool</th>\n",
       "      <th>humidity=normal</th>\n",
       "      <th>windy=FALSE</th>\n",
       "      <th>play</th>\n",
       "    </tr>\n",
       "  </thead>\n",
       "  <tbody>\n",
       "    <tr>\n",
       "      <th>0</th>\n",
       "      <td>1</td>\n",
       "      <td>0</td>\n",
       "      <td>0</td>\n",
       "      <td>1</td>\n",
       "      <td>0</td>\n",
       "      <td>0</td>\n",
       "      <td>0</td>\n",
       "      <td>1</td>\n",
       "      <td>no</td>\n",
       "    </tr>\n",
       "    <tr>\n",
       "      <th>1</th>\n",
       "      <td>1</td>\n",
       "      <td>0</td>\n",
       "      <td>0</td>\n",
       "      <td>1</td>\n",
       "      <td>0</td>\n",
       "      <td>0</td>\n",
       "      <td>0</td>\n",
       "      <td>0</td>\n",
       "      <td>no</td>\n",
       "    </tr>\n",
       "    <tr>\n",
       "      <th>2</th>\n",
       "      <td>0</td>\n",
       "      <td>1</td>\n",
       "      <td>0</td>\n",
       "      <td>1</td>\n",
       "      <td>0</td>\n",
       "      <td>0</td>\n",
       "      <td>0</td>\n",
       "      <td>1</td>\n",
       "      <td>yes</td>\n",
       "    </tr>\n",
       "    <tr>\n",
       "      <th>3</th>\n",
       "      <td>0</td>\n",
       "      <td>0</td>\n",
       "      <td>1</td>\n",
       "      <td>0</td>\n",
       "      <td>1</td>\n",
       "      <td>0</td>\n",
       "      <td>0</td>\n",
       "      <td>1</td>\n",
       "      <td>yes</td>\n",
       "    </tr>\n",
       "    <tr>\n",
       "      <th>4</th>\n",
       "      <td>0</td>\n",
       "      <td>0</td>\n",
       "      <td>1</td>\n",
       "      <td>0</td>\n",
       "      <td>0</td>\n",
       "      <td>1</td>\n",
       "      <td>1</td>\n",
       "      <td>1</td>\n",
       "      <td>yes</td>\n",
       "    </tr>\n",
       "  </tbody>\n",
       "</table>\n",
       "</div>"
      ],
      "text/plain": [
       "   outlook=sunny  outlook=overcast  outlook=rainy  temperature=hot  \\\n",
       "0              1                 0              0                1   \n",
       "1              1                 0              0                1   \n",
       "2              0                 1              0                1   \n",
       "3              0                 0              1                0   \n",
       "4              0                 0              1                0   \n",
       "\n",
       "   temperature=mild  temperature=cool  humidity=normal  windy=FALSE play  \n",
       "0                 0                 0                0            1   no  \n",
       "1                 0                 0                0            0   no  \n",
       "2                 0                 0                0            1  yes  \n",
       "3                 1                 0                0            1  yes  \n",
       "4                 0                 1                1            1  yes  "
      ]
     },
     "execution_count": 2,
     "metadata": {},
     "output_type": "execute_result"
    }
   ],
   "source": [
    "path_weather = './weather.nominalToBinary.csv'\n",
    "df_weather = pd.read_csv(path_weather)\n",
    "df_weather.head()"
   ]
  },
  {
   "cell_type": "code",
   "execution_count": 3,
   "metadata": {},
   "outputs": [
    {
     "data": {
      "text/html": [
       "<div>\n",
       "<style scoped>\n",
       "    .dataframe tbody tr th:only-of-type {\n",
       "        vertical-align: middle;\n",
       "    }\n",
       "\n",
       "    .dataframe tbody tr th {\n",
       "        vertical-align: top;\n",
       "    }\n",
       "\n",
       "    .dataframe thead th {\n",
       "        text-align: right;\n",
       "    }\n",
       "</style>\n",
       "<table border=\"1\" class=\"dataframe\">\n",
       "  <thead>\n",
       "    <tr style=\"text-align: right;\">\n",
       "      <th></th>\n",
       "      <th>outlook=sunny</th>\n",
       "      <th>outlook=overcast</th>\n",
       "      <th>outlook=rainy</th>\n",
       "      <th>temperature=hot</th>\n",
       "      <th>temperature=mild</th>\n",
       "      <th>temperature=cool</th>\n",
       "      <th>humidity=normal</th>\n",
       "      <th>windy=FALSE</th>\n",
       "      <th>play</th>\n",
       "    </tr>\n",
       "  </thead>\n",
       "  <tbody>\n",
       "    <tr>\n",
       "      <th>0</th>\n",
       "      <td>1</td>\n",
       "      <td>0</td>\n",
       "      <td>0</td>\n",
       "      <td>1</td>\n",
       "      <td>0</td>\n",
       "      <td>0</td>\n",
       "      <td>0</td>\n",
       "      <td>1</td>\n",
       "      <td>0</td>\n",
       "    </tr>\n",
       "    <tr>\n",
       "      <th>1</th>\n",
       "      <td>1</td>\n",
       "      <td>0</td>\n",
       "      <td>0</td>\n",
       "      <td>1</td>\n",
       "      <td>0</td>\n",
       "      <td>0</td>\n",
       "      <td>0</td>\n",
       "      <td>0</td>\n",
       "      <td>0</td>\n",
       "    </tr>\n",
       "    <tr>\n",
       "      <th>2</th>\n",
       "      <td>0</td>\n",
       "      <td>1</td>\n",
       "      <td>0</td>\n",
       "      <td>1</td>\n",
       "      <td>0</td>\n",
       "      <td>0</td>\n",
       "      <td>0</td>\n",
       "      <td>1</td>\n",
       "      <td>1</td>\n",
       "    </tr>\n",
       "    <tr>\n",
       "      <th>3</th>\n",
       "      <td>0</td>\n",
       "      <td>0</td>\n",
       "      <td>1</td>\n",
       "      <td>0</td>\n",
       "      <td>1</td>\n",
       "      <td>0</td>\n",
       "      <td>0</td>\n",
       "      <td>1</td>\n",
       "      <td>1</td>\n",
       "    </tr>\n",
       "    <tr>\n",
       "      <th>4</th>\n",
       "      <td>0</td>\n",
       "      <td>0</td>\n",
       "      <td>1</td>\n",
       "      <td>0</td>\n",
       "      <td>0</td>\n",
       "      <td>1</td>\n",
       "      <td>1</td>\n",
       "      <td>1</td>\n",
       "      <td>1</td>\n",
       "    </tr>\n",
       "  </tbody>\n",
       "</table>\n",
       "</div>"
      ],
      "text/plain": [
       "   outlook=sunny  outlook=overcast  outlook=rainy  temperature=hot  \\\n",
       "0              1                 0              0                1   \n",
       "1              1                 0              0                1   \n",
       "2              0                 1              0                1   \n",
       "3              0                 0              1                0   \n",
       "4              0                 0              1                0   \n",
       "\n",
       "   temperature=mild  temperature=cool  humidity=normal  windy=FALSE  play  \n",
       "0                 0                 0                0            1     0  \n",
       "1                 0                 0                0            0     0  \n",
       "2                 0                 0                0            1     1  \n",
       "3                 1                 0                0            1     1  \n",
       "4                 0                 1                1            1     1  "
      ]
     },
     "execution_count": 3,
     "metadata": {},
     "output_type": "execute_result"
    }
   ],
   "source": [
    "df_weather['play'] = df_weather['play'].apply(lambda x: 0 if x == 'no' else 1)\n",
    "df_weather.head()"
   ]
  },
  {
   "cell_type": "code",
   "execution_count": 4,
   "metadata": {},
   "outputs": [
    {
     "name": "stdout",
     "output_type": "stream",
     "text": [
      "columns = Index(['outlook=sunny', 'outlook=overcast', 'outlook=rainy', 'temperature=hot',\n",
      "       'temperature=mild', 'temperature=cool', 'humidity=normal',\n",
      "       'windy=FALSE', 'play'],\n",
      "      dtype='object')\n"
     ]
    }
   ],
   "source": [
    "weather_columns = df_weather.columns\n",
    "print(f'columns = {weather_columns}')"
   ]
  },
  {
   "cell_type": "code",
   "execution_count": 60,
   "metadata": {},
   "outputs": [
    {
     "name": "stdout",
     "output_type": "stream",
     "text": [
      "Number of samples: 14\n"
     ]
    }
   ],
   "source": [
    "print(f'Number of samples: {len(df_weather)}')\n",
    "X, y = df_weather[weather_columns[:-1]], df_weather[weather_columns[-1]]\n",
    "X_train, X_test, y_train, y_test = train_test_split(X, y, test_size=0.2, random_state=1)\n",
    "print(f'len(X_train) = {len(X_train)}, len(y_train) = {len(y_train)}')"
   ]
  },
  {
   "cell_type": "markdown",
   "metadata": {},
   "source": [
    "> Exercice 1 <br>\n",
    "> L'exercice 9 est inclu dans mon implémentation des exercices 1-2-3 car j'ai assigné une classe à chaque cluster."
   ]
  },
  {
   "cell_type": "markdown",
   "metadata": {},
   "source": [
    "#### Farthest-First optimization for Partitioning Around Medoids algorithm\n",
    "> I implemented it with python standard library, could be faster to implement with numpy."
   ]
  },
  {
   "cell_type": "code",
   "execution_count": 6,
   "metadata": {},
   "outputs": [],
   "source": [
    "def dist(a,b):\n",
    "    \"\"\" \n",
    "    Distance between vectors a and b (lines of X_train)\n",
    "    The L1 norm is used, however data points are in {0,1}, so this is the same as the L2 norm.\n",
    "    \"\"\"\n",
    "    # print(f'a = {a}, b = {b}')\n",
    "    return sum(abs(x-y) for x,y in zip(a,b))\n",
    "\n",
    "def PAM(list_points, k, seed=0):\n",
    "    \"\"\" \n",
    "    Computes the PAM barycenters with farthest-first optimization.\n",
    "    ******\n",
    "    PARAMS:\n",
    "    list_points: list of input feature vectors (= input matrix)\n",
    "    k: number of barycenters\n",
    "    \"\"\"\n",
    "    N = len(list_points)\n",
    "    # print(f'N = {N}')\n",
    "    np.random.seed(seed)\n",
    "    m1 = np.random.randint(len(list_points))\n",
    "    print(f'First medoid randomly chosen: {m1}')\n",
    "    list_medoids = [m1]\n",
    "    print(f'list_medoids: {list_medoids}')\n",
    "    distance_matrix = [[dist(list_points[i], list_points[j]) for j in range(N)] for i in range(N)]\n",
    "    print(f'distance_matrix = {distance_matrix}')\n",
    "    for i in range(1,k):\n",
    "        distances = [(sum(distance_matrix[i][m] for m in list_medoids),i) for i in range(N) if i not in list_medoids]\n",
    "        list_medoids.append(min(distances)[1])\n",
    "    print(f'\\nMedoids after farthest-first: {list_medoids}')\n",
    "\n",
    "    # Add points to closest medoid\n",
    "    clusters = [[i] for i in list_medoids]\n",
    "    for i, p in enumerate(list_points):\n",
    "        if i not in list_medoids:\n",
    "            clusters[min((dist(list_points[j], p), k) for k,j in enumerate(list_medoids))[1]].append(i)\n",
    "    print(f'Clusters after first iteration: {clusters}')\n",
    "    intra_cluster_variances = [sum(dist(list_points[x],list_points[m]) for x in clusters[i]) for i,m in enumerate(list_medoids)]\n",
    "    print(f'intra_cluster_variances = {intra_cluster_variances}')\n",
    "    \n",
    "    print(f'\\n*** SWAP phase ***')\n",
    "    improvement = True \n",
    "    while improvement:\n",
    "        improvement = False \n",
    "        best_swap = 0\n",
    "        best_var = 0\n",
    "        swap_indexes = 0, 0\n",
    "        for i in range(k):\n",
    "            for j in clusters[i]: \n",
    "                # swap p and m: p becomes medoid of i-th cluster, and m becomes normal element of cluster i\n",
    "                # new medoid of cluster i is list_points[j]\n",
    "                new_variance_cluster_i = sum(dist(list_points[x], list_points[j]) for x in clusters[i])\n",
    "                if intra_cluster_variances[i] - new_variance_cluster_i > best_swap:\n",
    "                    best_swap = intra_cluster_variances[i] - new_variance_cluster_i\n",
    "                    best_var = new_variance_cluster_i\n",
    "                    swap_indexes = i,j \n",
    "        # make the best swap\n",
    "        if best_swap > 0:\n",
    "            print(f'best_swap = {best_swap} > 0, performing swapping with indexes {swap_indexes}')\n",
    "            print(f'medoids = {list_medoids}')\n",
    "            list_medoids[swap_indexes[0]] = swap_indexes[1]\n",
    "            improvement = True\n",
    "            print(f'new medoids: {list_medoids}')\n",
    "            # intra_cluster_variances[swap_indexes[0]] = intra_cluster_variances[i] - best_swap\n",
    "            intra_cluster_variances[swap_indexes[0]] = best_var\n",
    "            print(f'intra_cluster_variances = {intra_cluster_variances}\\n')\n",
    "    \n",
    "    return clusters, list_medoids"
   ]
  },
  {
   "cell_type": "code",
   "execution_count": 7,
   "metadata": {},
   "outputs": [
    {
     "name": "stdout",
     "output_type": "stream",
     "text": [
      "First medoid randomly chosen: 5\n",
      "list_medoids: [5]\n",
      "distance_matrix = [[0, 6, 5, 3, 1, 2, 5, 5, 5, 3, 6], [6, 0, 5, 3, 5, 4, 3, 3, 3, 3, 4], [5, 5, 0, 6, 4, 5, 4, 2, 2, 6, 1], [3, 3, 6, 0, 4, 1, 4, 6, 4, 4, 5], [1, 5, 4, 4, 0, 3, 6, 4, 4, 4, 5], [2, 4, 5, 1, 3, 0, 5, 5, 3, 5, 6], [5, 3, 4, 4, 6, 5, 0, 2, 6, 2, 3], [5, 3, 2, 6, 4, 5, 2, 0, 4, 4, 3], [5, 3, 2, 4, 4, 3, 6, 4, 0, 6, 3], [3, 3, 6, 4, 4, 5, 2, 4, 6, 0, 5], [6, 4, 1, 5, 5, 6, 3, 3, 3, 5, 0]]\n",
      "\n",
      "Medoids after farthest-first: [5, 3]\n",
      "Clusters after first iteration: [[5, 0, 2, 4, 7, 8], [3, 1, 6, 9, 10]]\n",
      "intra_cluster_variances = [18, 16]\n",
      "\n",
      "*** SWAP phase ***\n",
      "best_swap = 4 > 0, performing swapping with indexes (1, 6)\n",
      "medoids = [5, 3]\n",
      "new medoids: [5, 6]\n",
      "intra_cluster_variances = [18, 12]\n",
      "\n",
      "best_swap = 2 > 0, performing swapping with indexes (0, 4)\n",
      "medoids = [5, 6]\n",
      "new medoids: [4, 6]\n",
      "intra_cluster_variances = [16, 12]\n",
      "\n"
     ]
    }
   ],
   "source": [
    "X_matrix = X_train.values\n",
    "clusters, list_medoids = PAM(X_matrix, k=2, seed=0)"
   ]
  },
  {
   "cell_type": "markdown",
   "metadata": {},
   "source": [
    "#### Affichage des clusters\n",
    "> Cluster 1"
   ]
  },
  {
   "cell_type": "code",
   "execution_count": 8,
   "metadata": {},
   "outputs": [
    {
     "data": {
      "text/html": [
       "<div>\n",
       "<style scoped>\n",
       "    .dataframe tbody tr th:only-of-type {\n",
       "        vertical-align: middle;\n",
       "    }\n",
       "\n",
       "    .dataframe tbody tr th {\n",
       "        vertical-align: top;\n",
       "    }\n",
       "\n",
       "    .dataframe thead th {\n",
       "        text-align: right;\n",
       "    }\n",
       "</style>\n",
       "<table border=\"1\" class=\"dataframe\">\n",
       "  <thead>\n",
       "    <tr style=\"text-align: right;\">\n",
       "      <th></th>\n",
       "      <th>outlook=sunny</th>\n",
       "      <th>outlook=overcast</th>\n",
       "      <th>outlook=rainy</th>\n",
       "      <th>temperature=hot</th>\n",
       "      <th>temperature=mild</th>\n",
       "      <th>temperature=cool</th>\n",
       "      <th>humidity=normal</th>\n",
       "      <th>windy=FALSE</th>\n",
       "    </tr>\n",
       "  </thead>\n",
       "  <tbody>\n",
       "    <tr>\n",
       "      <th>0</th>\n",
       "      <td>1</td>\n",
       "      <td>0</td>\n",
       "      <td>0</td>\n",
       "      <td>1</td>\n",
       "      <td>0</td>\n",
       "      <td>0</td>\n",
       "      <td>0</td>\n",
       "      <td>1</td>\n",
       "    </tr>\n",
       "    <tr>\n",
       "      <th>2</th>\n",
       "      <td>0</td>\n",
       "      <td>1</td>\n",
       "      <td>0</td>\n",
       "      <td>1</td>\n",
       "      <td>0</td>\n",
       "      <td>0</td>\n",
       "      <td>0</td>\n",
       "      <td>1</td>\n",
       "    </tr>\n",
       "    <tr>\n",
       "      <th>4</th>\n",
       "      <td>0</td>\n",
       "      <td>0</td>\n",
       "      <td>1</td>\n",
       "      <td>0</td>\n",
       "      <td>0</td>\n",
       "      <td>1</td>\n",
       "      <td>1</td>\n",
       "      <td>1</td>\n",
       "    </tr>\n",
       "    <tr>\n",
       "      <th>12</th>\n",
       "      <td>0</td>\n",
       "      <td>1</td>\n",
       "      <td>0</td>\n",
       "      <td>1</td>\n",
       "      <td>0</td>\n",
       "      <td>0</td>\n",
       "      <td>1</td>\n",
       "      <td>1</td>\n",
       "    </tr>\n",
       "    <tr>\n",
       "      <th>9</th>\n",
       "      <td>0</td>\n",
       "      <td>0</td>\n",
       "      <td>1</td>\n",
       "      <td>0</td>\n",
       "      <td>1</td>\n",
       "      <td>0</td>\n",
       "      <td>1</td>\n",
       "      <td>1</td>\n",
       "    </tr>\n",
       "    <tr>\n",
       "      <th>8</th>\n",
       "      <td>1</td>\n",
       "      <td>0</td>\n",
       "      <td>0</td>\n",
       "      <td>0</td>\n",
       "      <td>0</td>\n",
       "      <td>1</td>\n",
       "      <td>1</td>\n",
       "      <td>1</td>\n",
       "    </tr>\n",
       "  </tbody>\n",
       "</table>\n",
       "</div>"
      ],
      "text/plain": [
       "    outlook=sunny  outlook=overcast  outlook=rainy  temperature=hot  \\\n",
       "0               1                 0              0                1   \n",
       "2               0                 1              0                1   \n",
       "4               0                 0              1                0   \n",
       "12              0                 1              0                1   \n",
       "9               0                 0              1                0   \n",
       "8               1                 0              0                0   \n",
       "\n",
       "    temperature=mild  temperature=cool  humidity=normal  windy=FALSE  \n",
       "0                  0                 0                0            1  \n",
       "2                  0                 0                0            1  \n",
       "4                  0                 1                1            1  \n",
       "12                 0                 0                1            1  \n",
       "9                  1                 0                1            1  \n",
       "8                  0                 1                1            1  "
      ]
     },
     "execution_count": 8,
     "metadata": {},
     "output_type": "execute_result"
    }
   ],
   "source": [
    "cluster_1 = X_train.iloc[clusters[0]]\n",
    "cluster_1"
   ]
  },
  {
   "cell_type": "markdown",
   "metadata": {},
   "source": [
    "> cluster 2"
   ]
  },
  {
   "cell_type": "code",
   "execution_count": 9,
   "metadata": {},
   "outputs": [
    {
     "data": {
      "text/html": [
       "<div>\n",
       "<style scoped>\n",
       "    .dataframe tbody tr th:only-of-type {\n",
       "        vertical-align: middle;\n",
       "    }\n",
       "\n",
       "    .dataframe tbody tr th {\n",
       "        vertical-align: top;\n",
       "    }\n",
       "\n",
       "    .dataframe thead th {\n",
       "        text-align: right;\n",
       "    }\n",
       "</style>\n",
       "<table border=\"1\" class=\"dataframe\">\n",
       "  <thead>\n",
       "    <tr style=\"text-align: right;\">\n",
       "      <th></th>\n",
       "      <th>outlook=sunny</th>\n",
       "      <th>outlook=overcast</th>\n",
       "      <th>outlook=rainy</th>\n",
       "      <th>temperature=hot</th>\n",
       "      <th>temperature=mild</th>\n",
       "      <th>temperature=cool</th>\n",
       "      <th>humidity=normal</th>\n",
       "      <th>windy=FALSE</th>\n",
       "    </tr>\n",
       "  </thead>\n",
       "  <tbody>\n",
       "    <tr>\n",
       "      <th>1</th>\n",
       "      <td>1</td>\n",
       "      <td>0</td>\n",
       "      <td>0</td>\n",
       "      <td>1</td>\n",
       "      <td>0</td>\n",
       "      <td>0</td>\n",
       "      <td>0</td>\n",
       "      <td>0</td>\n",
       "    </tr>\n",
       "    <tr>\n",
       "      <th>10</th>\n",
       "      <td>1</td>\n",
       "      <td>0</td>\n",
       "      <td>0</td>\n",
       "      <td>0</td>\n",
       "      <td>1</td>\n",
       "      <td>0</td>\n",
       "      <td>1</td>\n",
       "      <td>0</td>\n",
       "    </tr>\n",
       "    <tr>\n",
       "      <th>13</th>\n",
       "      <td>0</td>\n",
       "      <td>0</td>\n",
       "      <td>1</td>\n",
       "      <td>0</td>\n",
       "      <td>1</td>\n",
       "      <td>0</td>\n",
       "      <td>0</td>\n",
       "      <td>0</td>\n",
       "    </tr>\n",
       "    <tr>\n",
       "      <th>11</th>\n",
       "      <td>0</td>\n",
       "      <td>1</td>\n",
       "      <td>0</td>\n",
       "      <td>0</td>\n",
       "      <td>1</td>\n",
       "      <td>0</td>\n",
       "      <td>0</td>\n",
       "      <td>0</td>\n",
       "    </tr>\n",
       "    <tr>\n",
       "      <th>5</th>\n",
       "      <td>0</td>\n",
       "      <td>0</td>\n",
       "      <td>1</td>\n",
       "      <td>0</td>\n",
       "      <td>0</td>\n",
       "      <td>1</td>\n",
       "      <td>1</td>\n",
       "      <td>0</td>\n",
       "    </tr>\n",
       "  </tbody>\n",
       "</table>\n",
       "</div>"
      ],
      "text/plain": [
       "    outlook=sunny  outlook=overcast  outlook=rainy  temperature=hot  \\\n",
       "1               1                 0              0                1   \n",
       "10              1                 0              0                0   \n",
       "13              0                 0              1                0   \n",
       "11              0                 1              0                0   \n",
       "5               0                 0              1                0   \n",
       "\n",
       "    temperature=mild  temperature=cool  humidity=normal  windy=FALSE  \n",
       "1                  0                 0                0            0  \n",
       "10                 1                 0                1            0  \n",
       "13                 1                 0                0            0  \n",
       "11                 1                 0                0            0  \n",
       "5                  0                 1                1            0  "
      ]
     },
     "execution_count": 9,
     "metadata": {},
     "output_type": "execute_result"
    }
   ],
   "source": [
    "cluster_2 = X_train.iloc[clusters[1]]\n",
    "cluster_2"
   ]
  },
  {
   "cell_type": "markdown",
   "metadata": {},
   "source": [
    "#### Calcul des centroids "
   ]
  },
  {
   "cell_type": "code",
   "execution_count": 10,
   "metadata": {},
   "outputs": [
    {
     "data": {
      "text/plain": [
       "outlook=sunny       0.333333\n",
       "outlook=overcast    0.333333\n",
       "outlook=rainy       0.333333\n",
       "temperature=hot     0.500000\n",
       "temperature=mild    0.166667\n",
       "temperature=cool    0.333333\n",
       "humidity=normal     0.666667\n",
       "windy=FALSE         1.000000\n",
       "dtype: float64"
      ]
     },
     "execution_count": 10,
     "metadata": {},
     "output_type": "execute_result"
    }
   ],
   "source": [
    "cluster_1.mean()"
   ]
  },
  {
   "cell_type": "code",
   "execution_count": 11,
   "metadata": {},
   "outputs": [
    {
     "data": {
      "text/plain": [
       "outlook=sunny       0.4\n",
       "outlook=overcast    0.2\n",
       "outlook=rainy       0.4\n",
       "temperature=hot     0.2\n",
       "temperature=mild    0.6\n",
       "temperature=cool    0.2\n",
       "humidity=normal     0.4\n",
       "windy=FALSE         0.0\n",
       "dtype: float64"
      ]
     },
     "execution_count": 11,
     "metadata": {},
     "output_type": "execute_result"
    }
   ],
   "source": [
    "cluster_2.mean()"
   ]
  },
  {
   "cell_type": "markdown",
   "metadata": {},
   "source": [
    "#### Calcul de l'erreur\n",
    "> On prend pour play=yes le cluster qui le plus de bonnes predictions (comme ce que fait Weka). <br>\n",
    "> Le clustering est non-supervisé donc les valeurs regroupees n'ont pas de label, il faut l'attribuer manuellement."
   ]
  },
  {
   "cell_type": "code",
   "execution_count": 12,
   "metadata": {},
   "outputs": [
    {
     "data": {
      "text/plain": [
       "[0, 1, 0, 1, 0, 0, 1, 0, 0, 1, 1]"
      ]
     },
     "execution_count": 12,
     "metadata": {},
     "output_type": "execute_result"
    }
   ],
   "source": [
    "def get_predictions(clusters):\n",
    "    predictions = []\n",
    "    N = len(clusters[0]) + len(clusters[1])\n",
    "    for i in range(N):\n",
    "        if i in clusters[0]:\n",
    "            predictions.append(0)\n",
    "        else:\n",
    "            predictions.append(1)\n",
    "    return predictions\n",
    "\n",
    "predictions = get_predictions(clusters)"
   ]
  },
  {
   "cell_type": "code",
   "execution_count": 13,
   "metadata": {},
   "outputs": [],
   "source": [
    "def print_metrics(y_train, y_pred):\n",
    "    accuracy = sum(y_pred == y_train.to_numpy())/len(y_pred)\n",
    "    print(f'accuracy = {accuracy:.2f}')\n",
    "    print(f'confusion matrix: \\n{confusion_matrix(y_train, y_pred)}')\n",
    "    print(classification_report(y_train, y_pred))"
   ]
  },
  {
   "cell_type": "code",
   "execution_count": 14,
   "metadata": {},
   "outputs": [
    {
     "name": "stdout",
     "output_type": "stream",
     "text": [
      "accuracy = 0.27\n",
      "confusion matrix: \n",
      "[[1 3]\n",
      " [5 2]]\n",
      "              precision    recall  f1-score   support\n",
      "\n",
      "           0       0.17      0.25      0.20         4\n",
      "           1       0.40      0.29      0.33         7\n",
      "\n",
      "    accuracy                           0.27        11\n",
      "   macro avg       0.28      0.27      0.27        11\n",
      "weighted avg       0.32      0.27      0.28        11\n",
      "\n"
     ]
    }
   ],
   "source": [
    "print_metrics(y_train, predictions)"
   ]
  },
  {
   "cell_type": "markdown",
   "metadata": {},
   "source": [
    "#### Calcul de l'accuracy sur test_set\n",
    "> Les médoids sont utilisés pour déterminer l'appartenance à un cluster"
   ]
  },
  {
   "cell_type": "code",
   "execution_count": 15,
   "metadata": {},
   "outputs": [
    {
     "data": {
      "text/plain": [
       "array([[0, 1, 0, 1, 0, 0, 1, 1],\n",
       "       [0, 0, 1, 0, 1, 0, 0, 0]])"
      ]
     },
     "execution_count": 15,
     "metadata": {},
     "output_type": "execute_result"
    }
   ],
   "source": [
    "medoids = X_train.iloc[list_medoids].values"
   ]
  },
  {
   "cell_type": "code",
   "execution_count": 16,
   "metadata": {},
   "outputs": [
    {
     "data": {
      "text/html": [
       "<div>\n",
       "<style scoped>\n",
       "    .dataframe tbody tr th:only-of-type {\n",
       "        vertical-align: middle;\n",
       "    }\n",
       "\n",
       "    .dataframe tbody tr th {\n",
       "        vertical-align: top;\n",
       "    }\n",
       "\n",
       "    .dataframe thead th {\n",
       "        text-align: right;\n",
       "    }\n",
       "</style>\n",
       "<table border=\"1\" class=\"dataframe\">\n",
       "  <thead>\n",
       "    <tr style=\"text-align: right;\">\n",
       "      <th></th>\n",
       "      <th>outlook=sunny</th>\n",
       "      <th>outlook=overcast</th>\n",
       "      <th>outlook=rainy</th>\n",
       "      <th>temperature=hot</th>\n",
       "      <th>temperature=mild</th>\n",
       "      <th>temperature=cool</th>\n",
       "      <th>humidity=normal</th>\n",
       "      <th>windy=FALSE</th>\n",
       "    </tr>\n",
       "  </thead>\n",
       "  <tbody>\n",
       "    <tr>\n",
       "      <th>3</th>\n",
       "      <td>0</td>\n",
       "      <td>0</td>\n",
       "      <td>1</td>\n",
       "      <td>0</td>\n",
       "      <td>1</td>\n",
       "      <td>0</td>\n",
       "      <td>0</td>\n",
       "      <td>1</td>\n",
       "    </tr>\n",
       "    <tr>\n",
       "      <th>7</th>\n",
       "      <td>1</td>\n",
       "      <td>0</td>\n",
       "      <td>0</td>\n",
       "      <td>0</td>\n",
       "      <td>1</td>\n",
       "      <td>0</td>\n",
       "      <td>0</td>\n",
       "      <td>1</td>\n",
       "    </tr>\n",
       "    <tr>\n",
       "      <th>6</th>\n",
       "      <td>0</td>\n",
       "      <td>1</td>\n",
       "      <td>0</td>\n",
       "      <td>0</td>\n",
       "      <td>0</td>\n",
       "      <td>1</td>\n",
       "      <td>1</td>\n",
       "      <td>0</td>\n",
       "    </tr>\n",
       "  </tbody>\n",
       "</table>\n",
       "</div>"
      ],
      "text/plain": [
       "   outlook=sunny  outlook=overcast  outlook=rainy  temperature=hot  \\\n",
       "3              0                 0              1                0   \n",
       "7              1                 0              0                0   \n",
       "6              0                 1              0                0   \n",
       "\n",
       "   temperature=mild  temperature=cool  humidity=normal  windy=FALSE  \n",
       "3                 1                 0                0            1  \n",
       "7                 1                 0                0            1  \n",
       "6                 0                 1                1            0  "
      ]
     },
     "execution_count": 16,
     "metadata": {},
     "output_type": "execute_result"
    }
   ],
   "source": [
    "X_test"
   ]
  },
  {
   "cell_type": "code",
   "execution_count": 17,
   "metadata": {},
   "outputs": [
    {
     "data": {
      "text/plain": [
       "array([1, 1, 0])"
      ]
     },
     "execution_count": 17,
     "metadata": {},
     "output_type": "execute_result"
    }
   ],
   "source": [
    "def predict(medoids, input_vector):\n",
    "    return min((dist(m, input_vector), i) for i,m in enumerate(medoids))[1]\n",
    "cluster_predictions_test = np.array([predict(medoids, x) for x in X_test.values])\n",
    "cluster_predictions_test"
   ]
  },
  {
   "cell_type": "code",
   "execution_count": 18,
   "metadata": {},
   "outputs": [
    {
     "name": "stdout",
     "output_type": "stream",
     "text": [
      "Accuracy of Farthest-First implemetation on test set: 0.3333333333333333\n",
      "accuracy = 0.33\n",
      "confusion matrix: \n",
      "[[0 1]\n",
      " [1 1]]\n",
      "              precision    recall  f1-score   support\n",
      "\n",
      "           0       0.00      0.00      0.00         1\n",
      "           1       0.50      0.50      0.50         2\n",
      "\n",
      "    accuracy                           0.33         3\n",
      "   macro avg       0.25      0.25      0.25         3\n",
      "weighted avg       0.33      0.33      0.33         3\n",
      "\n"
     ]
    }
   ],
   "source": [
    "accuracy_farthest = sum(cluster_predictions_test==y_test)/len(y_test)\n",
    "print(f'Accuracy of Farthest-First implemetation on test set: {accuracy_farthest}')\n",
    "print_metrics(y_test, cluster_predictions_test)"
   ]
  },
  {
   "cell_type": "markdown",
   "metadata": {},
   "source": [
    "> Exercice 2"
   ]
  },
  {
   "cell_type": "markdown",
   "metadata": {},
   "source": [
    "> La méthode K-means est appliquée avec l'initialisation aléatoire (random) des médoids."
   ]
  },
  {
   "cell_type": "code",
   "execution_count": 19,
   "metadata": {},
   "outputs": [
    {
     "name": "stdout",
     "output_type": "stream",
     "text": [
      "kmeans.labels_ = [0 1 1 0 0 0 1 1 1 1 1]\n",
      "y_train = [1, 1, 1, 0, 1, 0, 0, 1, 1, 1, 0]\n"
     ]
    },
    {
     "data": {
      "text/html": [
       "<div>\n",
       "<style scoped>\n",
       "    .dataframe tbody tr th:only-of-type {\n",
       "        vertical-align: middle;\n",
       "    }\n",
       "\n",
       "    .dataframe tbody tr th {\n",
       "        vertical-align: top;\n",
       "    }\n",
       "\n",
       "    .dataframe thead th {\n",
       "        text-align: right;\n",
       "    }\n",
       "</style>\n",
       "<table border=\"1\" class=\"dataframe\">\n",
       "  <thead>\n",
       "    <tr style=\"text-align: right;\">\n",
       "      <th></th>\n",
       "      <th>outlook=sunny</th>\n",
       "      <th>outlook=overcast</th>\n",
       "      <th>outlook=rainy</th>\n",
       "      <th>temperature=hot</th>\n",
       "      <th>temperature=mild</th>\n",
       "      <th>temperature=cool</th>\n",
       "      <th>humidity=normal</th>\n",
       "      <th>windy=FALSE</th>\n",
       "    </tr>\n",
       "  </thead>\n",
       "  <tbody>\n",
       "    <tr>\n",
       "      <th>10</th>\n",
       "      <td>1</td>\n",
       "      <td>0</td>\n",
       "      <td>0</td>\n",
       "      <td>0</td>\n",
       "      <td>1</td>\n",
       "      <td>0</td>\n",
       "      <td>1</td>\n",
       "      <td>0</td>\n",
       "    </tr>\n",
       "    <tr>\n",
       "      <th>4</th>\n",
       "      <td>0</td>\n",
       "      <td>0</td>\n",
       "      <td>1</td>\n",
       "      <td>0</td>\n",
       "      <td>0</td>\n",
       "      <td>1</td>\n",
       "      <td>1</td>\n",
       "      <td>1</td>\n",
       "    </tr>\n",
       "    <tr>\n",
       "      <th>13</th>\n",
       "      <td>0</td>\n",
       "      <td>0</td>\n",
       "      <td>1</td>\n",
       "      <td>0</td>\n",
       "      <td>1</td>\n",
       "      <td>0</td>\n",
       "      <td>0</td>\n",
       "      <td>0</td>\n",
       "    </tr>\n",
       "    <tr>\n",
       "      <th>9</th>\n",
       "      <td>0</td>\n",
       "      <td>0</td>\n",
       "      <td>1</td>\n",
       "      <td>0</td>\n",
       "      <td>1</td>\n",
       "      <td>0</td>\n",
       "      <td>1</td>\n",
       "      <td>1</td>\n",
       "    </tr>\n",
       "    <tr>\n",
       "      <th>8</th>\n",
       "      <td>1</td>\n",
       "      <td>0</td>\n",
       "      <td>0</td>\n",
       "      <td>0</td>\n",
       "      <td>0</td>\n",
       "      <td>1</td>\n",
       "      <td>1</td>\n",
       "      <td>1</td>\n",
       "    </tr>\n",
       "    <tr>\n",
       "      <th>11</th>\n",
       "      <td>0</td>\n",
       "      <td>1</td>\n",
       "      <td>0</td>\n",
       "      <td>0</td>\n",
       "      <td>1</td>\n",
       "      <td>0</td>\n",
       "      <td>0</td>\n",
       "      <td>0</td>\n",
       "    </tr>\n",
       "    <tr>\n",
       "      <th>5</th>\n",
       "      <td>0</td>\n",
       "      <td>0</td>\n",
       "      <td>1</td>\n",
       "      <td>0</td>\n",
       "      <td>0</td>\n",
       "      <td>1</td>\n",
       "      <td>1</td>\n",
       "      <td>0</td>\n",
       "    </tr>\n",
       "  </tbody>\n",
       "</table>\n",
       "</div>"
      ],
      "text/plain": [
       "    outlook=sunny  outlook=overcast  outlook=rainy  temperature=hot  \\\n",
       "10              1                 0              0                0   \n",
       "4               0                 0              1                0   \n",
       "13              0                 0              1                0   \n",
       "9               0                 0              1                0   \n",
       "8               1                 0              0                0   \n",
       "11              0                 1              0                0   \n",
       "5               0                 0              1                0   \n",
       "\n",
       "    temperature=mild  temperature=cool  humidity=normal  windy=FALSE  \n",
       "10                 1                 0                1            0  \n",
       "4                  0                 1                1            1  \n",
       "13                 1                 0                0            0  \n",
       "9                  1                 0                1            1  \n",
       "8                  0                 1                1            1  \n",
       "11                 1                 0                0            0  \n",
       "5                  0                 1                1            0  "
      ]
     },
     "execution_count": 19,
     "metadata": {},
     "output_type": "execute_result"
    }
   ],
   "source": [
    "simple_kmeans = KMeans(n_clusters=2, random_state=5, init='random', n_init='auto').fit(X_train)\n",
    "print(f'kmeans.labels_ = {simple_kmeans.labels_}\\ny_train = {y_train.to_list()}')\n",
    "cluster_1_simple = [i for i in range(len(X_train)) if simple_kmeans.labels_[i] == 0]\n",
    "cluster_2_simple = [i for i in range(len(X_train)) if simple_kmeans.labels_[i] == 1]\n",
    "df_1_simple = X_train.iloc[cluster_1_simple]\n",
    "df_2_simple = X_train.iloc[cluster_2_simple]"
   ]
  },
  {
   "cell_type": "markdown",
   "metadata": {},
   "source": [
    "> Pandas permets d'afficher les centroids pour chaque valeur des attributs."
   ]
  },
  {
   "cell_type": "code",
   "execution_count": 20,
   "metadata": {},
   "outputs": [
    {
     "data": {
      "text/plain": [
       "outlook=sunny       0.50\n",
       "outlook=overcast    0.50\n",
       "outlook=rainy       0.00\n",
       "temperature=hot     1.00\n",
       "temperature=mild    0.00\n",
       "temperature=cool    0.00\n",
       "humidity=normal     0.25\n",
       "windy=FALSE         0.75\n",
       "dtype: float64"
      ]
     },
     "execution_count": 20,
     "metadata": {},
     "output_type": "execute_result"
    }
   ],
   "source": [
    "df_1_simple.mean()"
   ]
  },
  {
   "cell_type": "code",
   "execution_count": 21,
   "metadata": {},
   "outputs": [
    {
     "data": {
      "text/plain": [
       "outlook=sunny       0.285714\n",
       "outlook=overcast    0.142857\n",
       "outlook=rainy       0.571429\n",
       "temperature=hot     0.000000\n",
       "temperature=mild    0.571429\n",
       "temperature=cool    0.428571\n",
       "humidity=normal     0.714286\n",
       "windy=FALSE         0.428571\n",
       "dtype: float64"
      ]
     },
     "execution_count": 21,
     "metadata": {},
     "output_type": "execute_result"
    }
   ],
   "source": [
    "df_2_simple.mean()"
   ]
  },
  {
   "cell_type": "code",
   "execution_count": 22,
   "metadata": {},
   "outputs": [
    {
     "name": "stdout",
     "output_type": "stream",
     "text": [
      "The accuracy of the kmean clustering on the training set is 0.636\n",
      "accuracy = 0.64\n",
      "confusion matrix: \n",
      "[[2 2]\n",
      " [2 5]]\n",
      "              precision    recall  f1-score   support\n",
      "\n",
      "           0       0.50      0.50      0.50         4\n",
      "           1       0.71      0.71      0.71         7\n",
      "\n",
      "    accuracy                           0.64        11\n",
      "   macro avg       0.61      0.61      0.61        11\n",
      "weighted avg       0.64      0.64      0.64        11\n",
      "\n"
     ]
    }
   ],
   "source": [
    "kmean_train_accuracy = sum(simple_kmeans.labels_ == y_train)/len(y_train)\n",
    "print(f'The accuracy of the kmean clustering on the training set is {max(kmean_train_accuracy, 1-kmean_train_accuracy):.3f}')\n",
    "print_metrics(y_train, simple_kmeans.labels_)"
   ]
  },
  {
   "cell_type": "markdown",
   "metadata": {},
   "source": [
    "Obtention des centroids"
   ]
  },
  {
   "cell_type": "markdown",
   "metadata": {},
   "source": [
    "On remarque que les centroids kmeans ont des valeurs entre 0 et 1, mais rarement 0.0 et jamais 1.0: les centroids n'appartiennent pas à l'ensemble des instances. <br>\n",
    "Cela montre que l'algorithme classe individus qui ont des classes différentes pour certains attributs dans le même cluster. Cela justifie l'utilisation de plusieurs classes."
   ]
  },
  {
   "cell_type": "markdown",
   "metadata": {},
   "source": [
    "Calcul de l'accuracy sur le test set."
   ]
  },
  {
   "cell_type": "code",
   "execution_count": 23,
   "metadata": {},
   "outputs": [
    {
     "name": "stdout",
     "output_type": "stream",
     "text": [
      "y_pred = [1 1 1]\ty_test = [1, 0, 1]\n",
      "L'accuracy de la méthode kmean sur le test set est: 0.667\n",
      "[[0 1]\n",
      " [0 2]]\n"
     ]
    }
   ],
   "source": [
    "y_pred = simple_kmeans.predict(X_test)\n",
    "kmean_test_accuracy = sum(y_pred == y_test)/len(y_test)\n",
    "print(f'y_pred = {y_pred}\\ty_test = {y_test.to_list()}')\n",
    "print(f'L\\'accuracy de la méthode kmean sur le test set est: {max(kmean_test_accuracy, 1-kmean_test_accuracy):.3f}')\n",
    "print(confusion_matrix(y_test, y_pred))"
   ]
  },
  {
   "cell_type": "markdown",
   "metadata": {},
   "source": [
    "L'algorithme fait 1 erreur sur 3 prédictions."
   ]
  },
  {
   "cell_type": "markdown",
   "metadata": {},
   "source": [
    "> Exercice III"
   ]
  },
  {
   "cell_type": "markdown",
   "metadata": {},
   "source": [
    "L'implémentation de Farthest-First conduit à de meilleurs résultats: accuracy de 100% sur le test set, et 72% sur le train set. <br>\n",
    "On s'attendait à ces meilleurs résultats car Farthest-First est une amélioration de simple KMean. <br>\n",
    "Comme il y a peu de données (11), le reste des métriques n'est pas très représentatif."
   ]
  },
  {
   "cell_type": "markdown",
   "metadata": {},
   "source": [
    "> Exercice 5"
   ]
  },
  {
   "cell_type": "code",
   "execution_count": 24,
   "metadata": {},
   "outputs": [
    {
     "name": "stdout",
     "output_type": "stream",
     "text": [
      "centroids: [[0.40 0.60 -0.00 0.80 0.20 0.00 0.20 0.60]\n",
      " [0.33 0.00 0.67 0.00 0.50 0.50 0.83 0.50]]\n",
      "centroid 1: \n",
      " outlook=sunny       0.50\n",
      "outlook=overcast    0.50\n",
      "outlook=rainy       0.00\n",
      "temperature=hot     1.00\n",
      "temperature=mild    0.00\n",
      "temperature=cool    0.00\n",
      "humidity=normal     0.25\n",
      "windy=FALSE         0.75\n",
      "dtype: float64\n",
      "\n",
      "centroid 2: \n",
      " outlook=sunny       0.285714\n",
      "outlook=overcast    0.142857\n",
      "outlook=rainy       0.571429\n",
      "temperature=hot     0.000000\n",
      "temperature=mild    0.571429\n",
      "temperature=cool    0.428571\n",
      "humidity=normal     0.714286\n",
      "windy=FALSE         0.428571\n",
      "dtype: float64\n"
     ]
    }
   ],
   "source": [
    "simple_kmeans_5 = KMeans(n_clusters=2, random_state=20, init='random', n_init='auto').fit(X_train)\n",
    "print(f'centroids: {simple_kmeans_5.cluster_centers_}')\n",
    "\n",
    "cluster_1_simple_2 = [i for i in range(len(X_train)) if simple_kmeans.labels_[i] == 0]\n",
    "cluster_2_simple_2 = [i for i in range(len(X_train)) if simple_kmeans.labels_[i] == 1]\n",
    "df_1_simple_2 = X_train.iloc[cluster_1_simple_2]\n",
    "df_2_simple_2 = X_train.iloc[cluster_2_simple_2]\n",
    "print(f'centroid 1: \\n {df_1_simple_2.mean()}')\n",
    "print(f'\\ncentroid 2: \\n {df_2_simple_2.mean()}')"
   ]
  },
  {
   "cell_type": "markdown",
   "metadata": {},
   "source": [
    "> Exercice X <br>\n",
    "> Pour cet exercice, compte tenu du faible nombre de données (14), j'utilise un train set uniquement (pas de test set)."
   ]
  },
  {
   "cell_type": "code",
   "execution_count": 25,
   "metadata": {},
   "outputs": [
    {
     "name": "stdout",
     "output_type": "stream",
     "text": [
      "First medoid randomly chosen: 5\n",
      "list_medoids: [5]\n",
      "distance_matrix = [[0, 1, 2, 4, 5, 6, 6, 2, 3, 5, 4, 5, 3, 5], [1, 0, 3, 5, 6, 5, 5, 3, 4, 6, 3, 4, 4, 4], [2, 3, 0, 4, 5, 6, 4, 4, 5, 5, 6, 3, 1, 5], [4, 5, 4, 0, 3, 4, 6, 2, 5, 1, 4, 3, 5, 1], [5, 6, 5, 3, 0, 1, 3, 5, 2, 2, 5, 6, 4, 4], [6, 5, 6, 4, 1, 0, 2, 6, 3, 3, 4, 5, 5, 3], [6, 5, 4, 6, 3, 2, 0, 6, 3, 5, 4, 3, 3, 5], [2, 3, 4, 2, 5, 6, 6, 0, 3, 3, 2, 3, 5, 3], [3, 4, 5, 5, 2, 3, 3, 3, 0, 4, 3, 6, 4, 6], [5, 6, 5, 1, 2, 3, 5, 3, 4, 0, 3, 4, 4, 2], [4, 3, 6, 4, 5, 4, 4, 2, 3, 3, 0, 3, 5, 3], [5, 4, 3, 3, 6, 5, 3, 3, 6, 4, 3, 0, 4, 2], [3, 4, 1, 5, 4, 5, 3, 5, 4, 4, 5, 4, 0, 6], [5, 4, 5, 1, 4, 3, 5, 3, 6, 2, 3, 2, 6, 0]]\n",
      "\n",
      "Medoids after farthest-first: [5, 4]\n",
      "Clusters after first iteration: [[5, 1, 6, 10, 11, 13], [4, 0, 2, 3, 7, 8, 9, 12]]\n",
      "intra_cluster_variances = [19, 26]\n",
      "\n",
      "*** SWAP phase ***\n",
      "best_swap = 2 > 0, performing swapping with indexes (0, 10)\n",
      "medoids = [5, 4]\n",
      "new medoids: [10, 4]\n",
      "intra_cluster_variances = [17, 26]\n",
      "\n",
      "best_swap = 2 > 0, performing swapping with indexes (1, 0)\n",
      "medoids = [10, 4]\n",
      "new medoids: [10, 0]\n",
      "intra_cluster_variances = [17, 24]\n",
      "\n",
      "First medoid randomly chosen: 9\n",
      "list_medoids: [9]\n",
      "distance_matrix = [[0, 1, 2, 4, 5, 6, 6, 2, 3, 5, 4, 5, 3, 5], [1, 0, 3, 5, 6, 5, 5, 3, 4, 6, 3, 4, 4, 4], [2, 3, 0, 4, 5, 6, 4, 4, 5, 5, 6, 3, 1, 5], [4, 5, 4, 0, 3, 4, 6, 2, 5, 1, 4, 3, 5, 1], [5, 6, 5, 3, 0, 1, 3, 5, 2, 2, 5, 6, 4, 4], [6, 5, 6, 4, 1, 0, 2, 6, 3, 3, 4, 5, 5, 3], [6, 5, 4, 6, 3, 2, 0, 6, 3, 5, 4, 3, 3, 5], [2, 3, 4, 2, 5, 6, 6, 0, 3, 3, 2, 3, 5, 3], [3, 4, 5, 5, 2, 3, 3, 3, 0, 4, 3, 6, 4, 6], [5, 6, 5, 1, 2, 3, 5, 3, 4, 0, 3, 4, 4, 2], [4, 3, 6, 4, 5, 4, 4, 2, 3, 3, 0, 3, 5, 3], [5, 4, 3, 3, 6, 5, 3, 3, 6, 4, 3, 0, 4, 2], [3, 4, 1, 5, 4, 5, 3, 5, 4, 4, 5, 4, 0, 6], [5, 4, 5, 1, 4, 3, 5, 3, 6, 2, 3, 2, 6, 0]]\n",
      "\n",
      "Medoids after farthest-first: [9, 3]\n",
      "Clusters after first iteration: [[9, 4, 5, 6, 8, 10, 12], [3, 0, 1, 2, 7, 11, 13]]\n",
      "intra_cluster_variances = [21, 19]\n",
      "\n",
      "*** SWAP phase ***\n",
      "best_swap = 4 > 0, performing swapping with indexes (0, 4)\n",
      "medoids = [9, 3]\n",
      "new medoids: [4, 3]\n",
      "intra_cluster_variances = [17, 19]\n",
      "\n",
      "best_swap = 2 > 0, performing swapping with indexes (1, 7)\n",
      "medoids = [4, 3]\n",
      "new medoids: [4, 7]\n",
      "intra_cluster_variances = [17, 17]\n",
      "\n",
      "First medoid randomly chosen: 3\n",
      "list_medoids: [3]\n",
      "distance_matrix = [[0, 1, 2, 4, 5, 6, 6, 2, 3, 5, 4, 5, 3, 5], [1, 0, 3, 5, 6, 5, 5, 3, 4, 6, 3, 4, 4, 4], [2, 3, 0, 4, 5, 6, 4, 4, 5, 5, 6, 3, 1, 5], [4, 5, 4, 0, 3, 4, 6, 2, 5, 1, 4, 3, 5, 1], [5, 6, 5, 3, 0, 1, 3, 5, 2, 2, 5, 6, 4, 4], [6, 5, 6, 4, 1, 0, 2, 6, 3, 3, 4, 5, 5, 3], [6, 5, 4, 6, 3, 2, 0, 6, 3, 5, 4, 3, 3, 5], [2, 3, 4, 2, 5, 6, 6, 0, 3, 3, 2, 3, 5, 3], [3, 4, 5, 5, 2, 3, 3, 3, 0, 4, 3, 6, 4, 6], [5, 6, 5, 1, 2, 3, 5, 3, 4, 0, 3, 4, 4, 2], [4, 3, 6, 4, 5, 4, 4, 2, 3, 3, 0, 3, 5, 3], [5, 4, 3, 3, 6, 5, 3, 3, 6, 4, 3, 0, 4, 2], [3, 4, 1, 5, 4, 5, 3, 5, 4, 4, 5, 4, 0, 6], [5, 4, 5, 1, 4, 3, 5, 3, 6, 2, 3, 2, 6, 0]]\n",
      "\n",
      "Medoids after farthest-first: [3, 9]\n",
      "Clusters after first iteration: [[3, 0, 1, 2, 7, 11, 13], [9, 4, 5, 6, 8, 10, 12]]\n",
      "intra_cluster_variances = [19, 21]\n",
      "\n",
      "*** SWAP phase ***\n",
      "best_swap = 4 > 0, performing swapping with indexes (1, 4)\n",
      "medoids = [3, 9]\n",
      "new medoids: [3, 4]\n",
      "intra_cluster_variances = [19, 17]\n",
      "\n",
      "best_swap = 2 > 0, performing swapping with indexes (0, 7)\n",
      "medoids = [3, 4]\n",
      "new medoids: [7, 4]\n",
      "intra_cluster_variances = [17, 17]\n",
      "\n",
      "First medoid randomly chosen: 0\n",
      "list_medoids: [0]\n",
      "distance_matrix = [[0, 1, 2, 4, 5, 6, 6, 2, 3, 5, 4, 5, 3, 5], [1, 0, 3, 5, 6, 5, 5, 3, 4, 6, 3, 4, 4, 4], [2, 3, 0, 4, 5, 6, 4, 4, 5, 5, 6, 3, 1, 5], [4, 5, 4, 0, 3, 4, 6, 2, 5, 1, 4, 3, 5, 1], [5, 6, 5, 3, 0, 1, 3, 5, 2, 2, 5, 6, 4, 4], [6, 5, 6, 4, 1, 0, 2, 6, 3, 3, 4, 5, 5, 3], [6, 5, 4, 6, 3, 2, 0, 6, 3, 5, 4, 3, 3, 5], [2, 3, 4, 2, 5, 6, 6, 0, 3, 3, 2, 3, 5, 3], [3, 4, 5, 5, 2, 3, 3, 3, 0, 4, 3, 6, 4, 6], [5, 6, 5, 1, 2, 3, 5, 3, 4, 0, 3, 4, 4, 2], [4, 3, 6, 4, 5, 4, 4, 2, 3, 3, 0, 3, 5, 3], [5, 4, 3, 3, 6, 5, 3, 3, 6, 4, 3, 0, 4, 2], [3, 4, 1, 5, 4, 5, 3, 5, 4, 4, 5, 4, 0, 6], [5, 4, 5, 1, 4, 3, 5, 3, 6, 2, 3, 2, 6, 0]]\n",
      "\n",
      "Medoids after farthest-first: [0, 1]\n",
      "Clusters after first iteration: [[0, 2, 3, 4, 7, 8, 9, 12], [1, 5, 6, 10, 11, 13]]\n",
      "intra_cluster_variances = [24, 21]\n",
      "\n",
      "*** SWAP phase ***\n",
      "best_swap = 4 > 0, performing swapping with indexes (1, 10)\n",
      "medoids = [0, 1]\n",
      "new medoids: [0, 10]\n",
      "intra_cluster_variances = [24, 17]\n",
      "\n",
      "First medoid randomly chosen: 8\n",
      "list_medoids: [8]\n",
      "distance_matrix = [[0, 1, 2, 4, 5, 6, 6, 2, 3, 5, 4, 5, 3, 5], [1, 0, 3, 5, 6, 5, 5, 3, 4, 6, 3, 4, 4, 4], [2, 3, 0, 4, 5, 6, 4, 4, 5, 5, 6, 3, 1, 5], [4, 5, 4, 0, 3, 4, 6, 2, 5, 1, 4, 3, 5, 1], [5, 6, 5, 3, 0, 1, 3, 5, 2, 2, 5, 6, 4, 4], [6, 5, 6, 4, 1, 0, 2, 6, 3, 3, 4, 5, 5, 3], [6, 5, 4, 6, 3, 2, 0, 6, 3, 5, 4, 3, 3, 5], [2, 3, 4, 2, 5, 6, 6, 0, 3, 3, 2, 3, 5, 3], [3, 4, 5, 5, 2, 3, 3, 3, 0, 4, 3, 6, 4, 6], [5, 6, 5, 1, 2, 3, 5, 3, 4, 0, 3, 4, 4, 2], [4, 3, 6, 4, 5, 4, 4, 2, 3, 3, 0, 3, 5, 3], [5, 4, 3, 3, 6, 5, 3, 3, 6, 4, 3, 0, 4, 2], [3, 4, 1, 5, 4, 5, 3, 5, 4, 4, 5, 4, 0, 6], [5, 4, 5, 1, 4, 3, 5, 3, 6, 2, 3, 2, 6, 0]]\n",
      "\n",
      "Medoids after farthest-first: [8, 4]\n",
      "Clusters after first iteration: [[8, 0, 1, 2, 6, 7, 10, 11, 12], [4, 3, 5, 9, 13]]\n",
      "intra_cluster_variances = [31, 10]\n",
      "\n",
      "*** SWAP phase ***\n",
      "best_swap = 5 > 0, performing swapping with indexes (0, 0)\n",
      "medoids = [8, 4]\n",
      "new medoids: [0, 4]\n",
      "intra_cluster_variances = [26, 10]\n",
      "\n",
      "best_swap = 2 > 0, performing swapping with indexes (1, 9)\n",
      "medoids = [0, 4]\n",
      "new medoids: [0, 9]\n",
      "intra_cluster_variances = [26, 8]\n",
      "\n",
      "First medoid randomly chosen: 3\n",
      "list_medoids: [3]\n",
      "distance_matrix = [[0, 1, 2, 4, 5, 6, 6, 2, 3, 5, 4, 5, 3, 5], [1, 0, 3, 5, 6, 5, 5, 3, 4, 6, 3, 4, 4, 4], [2, 3, 0, 4, 5, 6, 4, 4, 5, 5, 6, 3, 1, 5], [4, 5, 4, 0, 3, 4, 6, 2, 5, 1, 4, 3, 5, 1], [5, 6, 5, 3, 0, 1, 3, 5, 2, 2, 5, 6, 4, 4], [6, 5, 6, 4, 1, 0, 2, 6, 3, 3, 4, 5, 5, 3], [6, 5, 4, 6, 3, 2, 0, 6, 3, 5, 4, 3, 3, 5], [2, 3, 4, 2, 5, 6, 6, 0, 3, 3, 2, 3, 5, 3], [3, 4, 5, 5, 2, 3, 3, 3, 0, 4, 3, 6, 4, 6], [5, 6, 5, 1, 2, 3, 5, 3, 4, 0, 3, 4, 4, 2], [4, 3, 6, 4, 5, 4, 4, 2, 3, 3, 0, 3, 5, 3], [5, 4, 3, 3, 6, 5, 3, 3, 6, 4, 3, 0, 4, 2], [3, 4, 1, 5, 4, 5, 3, 5, 4, 4, 5, 4, 0, 6], [5, 4, 5, 1, 4, 3, 5, 3, 6, 2, 3, 2, 6, 0]]\n",
      "\n",
      "Medoids after farthest-first: [3, 9]\n",
      "Clusters after first iteration: [[3, 0, 1, 2, 7, 11, 13], [9, 4, 5, 6, 8, 10, 12]]\n",
      "intra_cluster_variances = [19, 21]\n",
      "\n",
      "*** SWAP phase ***\n",
      "best_swap = 4 > 0, performing swapping with indexes (1, 4)\n",
      "medoids = [3, 9]\n",
      "new medoids: [3, 4]\n",
      "intra_cluster_variances = [19, 17]\n",
      "\n",
      "best_swap = 2 > 0, performing swapping with indexes (0, 7)\n",
      "medoids = [3, 4]\n",
      "new medoids: [7, 4]\n",
      "intra_cluster_variances = [17, 17]\n",
      "\n"
     ]
    }
   ],
   "source": [
    "seeds = [1, 10, 20, 50, 100, 1000]\n",
    "accuracies_kmeans = []\n",
    "accuracies_PAM = []\n",
    "for seed in seeds:\n",
    "    kmeans = KMeans(n_clusters=2, random_state=seed, init='random', n_init='auto').fit(X)\n",
    "    clusters_fs, medoids_fs = PAM(X.values, k=2, seed=seed)\n",
    "\n",
    "    accuracy_kmean = sum(kmeans.labels_ == y)/len(y)\n",
    "    predictions_farthest_first = get_predictions(clusters_fs)\n",
    "    accuracy_fs = sum(predictions_farthest_first == y)/len(y)\n",
    "\n",
    "    accuracies_PAM.append(max(accuracy_fs, 1-accuracy_fs))\n",
    "    accuracies_kmeans.append(max(accuracy_kmean, 1-accuracy_kmean))"
   ]
  },
  {
   "cell_type": "code",
   "execution_count": 26,
   "metadata": {},
   "outputs": [
    {
     "name": "stdout",
     "output_type": "stream",
     "text": [
      "Accuracies kmean: [0.5, 0.6428571428571428, 0.5, 0.5, 0.5714285714285714, 0.6428571428571428]\n",
      "Accuracies_fs: [0.6428571428571429, 0.7142857142857143, 0.7142857142857143, 0.6428571428571428, 0.5714285714285714, 0.7142857142857143]\n",
      "Maximal accuracy kmean: 0.64\n",
      "Maximal accuracy farthest first: 0.71\n"
     ]
    }
   ],
   "source": [
    "print(f'Accuracies kmean: {accuracies_kmeans}')\n",
    "print(f'Accuracies_fs: {accuracies_PAM}')\n",
    "print(f'Maximal accuracy kmean: {max(accuracies_kmeans):.2f}\\nMaximal accuracy farthest first: {max(accuracies_PAM):.2f}')"
   ]
  },
  {
   "cell_type": "markdown",
   "metadata": {},
   "source": [
    "> Obtention des meilleurs seeds pour les algorithmes aléatoires"
   ]
  },
  {
   "cell_type": "code",
   "execution_count": 27,
   "metadata": {},
   "outputs": [
    {
     "name": "stdout",
     "output_type": "stream",
     "text": [
      "best_seed_kmean = 1000\n",
      "best_seed_fs = 1000\n"
     ]
    }
   ],
   "source": [
    "def argmax(list):\n",
    "    return max((x,i) for i,x in enumerate(list))[1]\n",
    "best_seed_kmean = seeds[argmax(accuracies_kmeans)]\n",
    "best_seed_fs = seeds[argmax(accuracies_PAM)]\n",
    "print(f'best_seed_kmean = {best_seed_kmean}\\nbest_seed_fs = {best_seed_fs}')"
   ]
  },
  {
   "cell_type": "markdown",
   "metadata": {},
   "source": [
    "> Obtention des meilleurs modèles à partir des meilleurs seeds"
   ]
  },
  {
   "cell_type": "code",
   "execution_count": 28,
   "metadata": {},
   "outputs": [
    {
     "name": "stdout",
     "output_type": "stream",
     "text": [
      "First medoid randomly chosen: 3\n",
      "list_medoids: [3]\n",
      "distance_matrix = [[0, 1, 2, 4, 5, 6, 6, 2, 3, 5, 4, 5, 3, 5], [1, 0, 3, 5, 6, 5, 5, 3, 4, 6, 3, 4, 4, 4], [2, 3, 0, 4, 5, 6, 4, 4, 5, 5, 6, 3, 1, 5], [4, 5, 4, 0, 3, 4, 6, 2, 5, 1, 4, 3, 5, 1], [5, 6, 5, 3, 0, 1, 3, 5, 2, 2, 5, 6, 4, 4], [6, 5, 6, 4, 1, 0, 2, 6, 3, 3, 4, 5, 5, 3], [6, 5, 4, 6, 3, 2, 0, 6, 3, 5, 4, 3, 3, 5], [2, 3, 4, 2, 5, 6, 6, 0, 3, 3, 2, 3, 5, 3], [3, 4, 5, 5, 2, 3, 3, 3, 0, 4, 3, 6, 4, 6], [5, 6, 5, 1, 2, 3, 5, 3, 4, 0, 3, 4, 4, 2], [4, 3, 6, 4, 5, 4, 4, 2, 3, 3, 0, 3, 5, 3], [5, 4, 3, 3, 6, 5, 3, 3, 6, 4, 3, 0, 4, 2], [3, 4, 1, 5, 4, 5, 3, 5, 4, 4, 5, 4, 0, 6], [5, 4, 5, 1, 4, 3, 5, 3, 6, 2, 3, 2, 6, 0]]\n",
      "\n",
      "Medoids after farthest-first: [3, 9]\n",
      "Clusters after first iteration: [[3, 0, 1, 2, 7, 11, 13], [9, 4, 5, 6, 8, 10, 12]]\n",
      "intra_cluster_variances = [19, 21]\n",
      "\n",
      "*** SWAP phase ***\n",
      "best_swap = 4 > 0, performing swapping with indexes (1, 4)\n",
      "medoids = [3, 9]\n",
      "new medoids: [3, 4]\n",
      "intra_cluster_variances = [19, 17]\n",
      "\n",
      "best_swap = 2 > 0, performing swapping with indexes (0, 7)\n",
      "medoids = [3, 4]\n",
      "new medoids: [7, 4]\n",
      "intra_cluster_variances = [17, 17]\n",
      "\n",
      "confusion matrix kmeans:\n",
      "[[2 3]\n",
      " [2 7]]\n",
      "confusion matrix farthest first:\n",
      "[[4 1]\n",
      " [3 6]]\n"
     ]
    }
   ],
   "source": [
    "kmeans = KMeans(n_clusters=2, random_state=best_seed_kmean, init='random', n_init='auto').fit(X)\n",
    "predictions_kmeans = abs(kmeans.predict(X)-1)\n",
    "clusters_fs, medoids_fs = PAM(X.values, k=2, seed=best_seed_fs)\n",
    "predictions_fs = get_predictions(clusters_fs)\n",
    "cm_kmeans = confusion_matrix(y, predictions_kmeans)\n",
    "cm_fs = confusion_matrix(y, predictions_fs)\n",
    "print(f'confusion matrix kmeans:\\n{cm_kmeans}')\n",
    "print(f'confusion matrix farthest first:\\n{cm_fs}')"
   ]
  },
  {
   "cell_type": "markdown",
   "metadata": {},
   "source": [
    "#### 7.4 Chosir un modèle obtenu par K-means\n",
    "> 1. Chargement des données et preprocessing."
   ]
  },
  {
   "cell_type": "code",
   "execution_count": 29,
   "metadata": {},
   "outputs": [
    {
     "data": {
      "text/html": [
       "<div>\n",
       "<style scoped>\n",
       "    .dataframe tbody tr th:only-of-type {\n",
       "        vertical-align: middle;\n",
       "    }\n",
       "\n",
       "    .dataframe tbody tr th {\n",
       "        vertical-align: top;\n",
       "    }\n",
       "\n",
       "    .dataframe thead th {\n",
       "        text-align: right;\n",
       "    }\n",
       "</style>\n",
       "<table border=\"1\" class=\"dataframe\">\n",
       "  <thead>\n",
       "    <tr style=\"text-align: right;\">\n",
       "      <th></th>\n",
       "      <th>handicapped-infants</th>\n",
       "      <th>water-project-cost-sharing</th>\n",
       "      <th>adoption-of-the-budget-resolution</th>\n",
       "      <th>physician-fee-freeze</th>\n",
       "      <th>el-salvador-aid</th>\n",
       "      <th>religious-groups-in-schools</th>\n",
       "      <th>anti-satellite-test-ban</th>\n",
       "      <th>aid-to-nicaraguan-contras</th>\n",
       "      <th>mx-missile</th>\n",
       "      <th>immigration</th>\n",
       "      <th>synfuels-corporation-cutback</th>\n",
       "      <th>education-spending</th>\n",
       "      <th>superfund-right-to-sue</th>\n",
       "      <th>crime</th>\n",
       "      <th>duty-free-exports</th>\n",
       "      <th>export-administration-act-south-africa</th>\n",
       "      <th>Class</th>\n",
       "    </tr>\n",
       "  </thead>\n",
       "  <tbody>\n",
       "    <tr>\n",
       "      <th>0</th>\n",
       "      <td>n</td>\n",
       "      <td>y</td>\n",
       "      <td>n</td>\n",
       "      <td>y</td>\n",
       "      <td>y</td>\n",
       "      <td>y</td>\n",
       "      <td>n</td>\n",
       "      <td>n</td>\n",
       "      <td>n</td>\n",
       "      <td>y</td>\n",
       "      <td>?</td>\n",
       "      <td>y</td>\n",
       "      <td>y</td>\n",
       "      <td>y</td>\n",
       "      <td>n</td>\n",
       "      <td>y</td>\n",
       "      <td>republican</td>\n",
       "    </tr>\n",
       "    <tr>\n",
       "      <th>1</th>\n",
       "      <td>n</td>\n",
       "      <td>y</td>\n",
       "      <td>n</td>\n",
       "      <td>y</td>\n",
       "      <td>y</td>\n",
       "      <td>y</td>\n",
       "      <td>n</td>\n",
       "      <td>n</td>\n",
       "      <td>n</td>\n",
       "      <td>n</td>\n",
       "      <td>n</td>\n",
       "      <td>y</td>\n",
       "      <td>y</td>\n",
       "      <td>y</td>\n",
       "      <td>n</td>\n",
       "      <td>?</td>\n",
       "      <td>republican</td>\n",
       "    </tr>\n",
       "    <tr>\n",
       "      <th>2</th>\n",
       "      <td>?</td>\n",
       "      <td>y</td>\n",
       "      <td>y</td>\n",
       "      <td>?</td>\n",
       "      <td>y</td>\n",
       "      <td>y</td>\n",
       "      <td>n</td>\n",
       "      <td>n</td>\n",
       "      <td>n</td>\n",
       "      <td>n</td>\n",
       "      <td>y</td>\n",
       "      <td>n</td>\n",
       "      <td>y</td>\n",
       "      <td>y</td>\n",
       "      <td>n</td>\n",
       "      <td>n</td>\n",
       "      <td>democrat</td>\n",
       "    </tr>\n",
       "  </tbody>\n",
       "</table>\n",
       "</div>"
      ],
      "text/plain": [
       "  handicapped-infants water-project-cost-sharing  \\\n",
       "0                   n                          y   \n",
       "1                   n                          y   \n",
       "2                   ?                          y   \n",
       "\n",
       "  adoption-of-the-budget-resolution physician-fee-freeze el-salvador-aid  \\\n",
       "0                                 n                    y               y   \n",
       "1                                 n                    y               y   \n",
       "2                                 y                    ?               y   \n",
       "\n",
       "  religious-groups-in-schools anti-satellite-test-ban  \\\n",
       "0                           y                       n   \n",
       "1                           y                       n   \n",
       "2                           y                       n   \n",
       "\n",
       "  aid-to-nicaraguan-contras mx-missile immigration  \\\n",
       "0                         n          n           y   \n",
       "1                         n          n           n   \n",
       "2                         n          n           n   \n",
       "\n",
       "  synfuels-corporation-cutback education-spending superfund-right-to-sue  \\\n",
       "0                            ?                  y                      y   \n",
       "1                            n                  y                      y   \n",
       "2                            y                  n                      y   \n",
       "\n",
       "  crime duty-free-exports export-administration-act-south-africa       Class  \n",
       "0     y                 n                                      y  republican  \n",
       "1     y                 n                                      ?  republican  \n",
       "2     y                 n                                      n    democrat  "
      ]
     },
     "execution_count": 29,
     "metadata": {},
     "output_type": "execute_result"
    }
   ],
   "source": [
    "path_vote = './vote.csv'\n",
    "df_vote = pd.read_csv(path_vote)\n",
    "df_vote.head(3)"
   ]
  },
  {
   "cell_type": "markdown",
   "metadata": {},
   "source": [
    "On remarque les valeurs sont des lettres. On va les changer en 0 ou 1. <br> \n",
    "Pour les valeurs manquantes ('?'), on les met à None."
   ]
  },
  {
   "cell_type": "code",
   "execution_count": 30,
   "metadata": {},
   "outputs": [
    {
     "name": "stdout",
     "output_type": "stream",
     "text": [
      "There are 203 with at least 1 missing value, out of 435 rows\n"
     ]
    }
   ],
   "source": [
    "mapping = {'y': 1, 'n':0, '?':None, 'republican':1, 'democrat':0}\n",
    "df_vote = df_vote.transform(lambda x: x.apply(lambda c: mapping[c]))\n",
    "incomplete_rows = df_vote.isnull().any(axis=1).sum()\n",
    "print(f'There are {incomplete_rows} with at least 1 missing value, out of {len(df_vote)} rows')"
   ]
  },
  {
   "cell_type": "code",
   "execution_count": 35,
   "metadata": {},
   "outputs": [
    {
     "name": "stdout",
     "output_type": "stream",
     "text": [
      "len(df_vote = 435)\n"
     ]
    }
   ],
   "source": [
    "print(f'len(df_vote = {len(df_vote)})')"
   ]
  },
  {
   "cell_type": "markdown",
   "metadata": {},
   "source": [
    "La base de donnée contient de nombreuses lignes avec au moins une valeur manquante. <br>\n",
    "Deux choix sont possibles: <br>\n",
    "> 1. Supression des lignes qui contiennent au moins une valeur manquante. <br>\n",
    "> 2. Ajout d'une valeur par interpolation, par exemple plus proches voisins. <br>\n",
    "\n",
    "Comme près de la moitié des lignes contiennent au moins une valeur manquante, une interpolation va probablement fausser les données. <br>\n",
    "L'option 1. est donc choisi: les lignes qui contiennent au moins une valeur manquante sont supprimées. "
   ]
  },
  {
   "cell_type": "code",
   "execution_count": 36,
   "metadata": {},
   "outputs": [
    {
     "name": "stdout",
     "output_type": "stream",
     "text": [
      "columns_vote = Index(['handicapped-infants', 'water-project-cost-sharing',\n",
      "       'adoption-of-the-budget-resolution', 'physician-fee-freeze',\n",
      "       'el-salvador-aid', 'religious-groups-in-schools',\n",
      "       'anti-satellite-test-ban', 'aid-to-nicaraguan-contras', 'mx-missile',\n",
      "       'immigration', 'synfuels-corporation-cutback', 'education-spending',\n",
      "       'superfund-right-to-sue', 'crime', 'duty-free-exports',\n",
      "       'export-administration-act-south-africa', 'Class'],\n",
      "      dtype='object')\n"
     ]
    }
   ],
   "source": [
    "df_vote.dropna(inplace=True)\n",
    "columns_vote = df_vote.columns\n",
    "X_vote, y_vote = df_vote[columns_vote[:-1]], df_vote[columns_vote[-1]]\n",
    "print(f'columns_vote = {columns_vote}')"
   ]
  },
  {
   "cell_type": "markdown",
   "metadata": {},
   "source": [
    "> 2 et 3. Échantillonnage de 10%"
   ]
  },
  {
   "cell_type": "code",
   "execution_count": 53,
   "metadata": {},
   "outputs": [
    {
     "name": "stdout",
     "output_type": "stream",
     "text": [
      "len(x10) = 24\n"
     ]
    }
   ],
   "source": [
    "_, X_10, _, y_10 = train_test_split(X_vote, y_vote, test_size=0.1, random_state=1)\n",
    "assert len(X_10) == len(y_10)\n",
    "print(f'len(x10) = {len(X_10)}')"
   ]
  },
  {
   "cell_type": "markdown",
   "metadata": {},
   "source": [
    "> 4. Échantillonnage de 90%. <br>\n",
    "Le random state est changé pour que les deux échantillonnages soient bien distincts."
   ]
  },
  {
   "cell_type": "code",
   "execution_count": 54,
   "metadata": {},
   "outputs": [
    {
     "name": "stdout",
     "output_type": "stream",
     "text": [
      "len(x90) = 209\n"
     ]
    }
   ],
   "source": [
    "_, X_90, _, y_90 = train_test_split(X_vote, y_vote, test_size=0.9, random_state=2)\n",
    "assert len(X_90) == len(y_90)\n",
    "print(f'len(x90) = {len(X_90)}')"
   ]
  },
  {
   "cell_type": "markdown",
   "metadata": {},
   "source": [
    "> 5. Application des 4 K-means <br>\n",
    "(a) Application à la base de données entière\n",
    "\n",
    "> J'ai relevé l'accuracy pour évaluer les performances du modèles."
   ]
  },
  {
   "cell_type": "code",
   "execution_count": 46,
   "metadata": {},
   "outputs": [
    {
     "data": {
      "text/plain": [
       "0.896551724137931"
      ]
     },
     "execution_count": 46,
     "metadata": {},
     "output_type": "execute_result"
    }
   ],
   "source": [
    "kmeans_all = KMeans(n_clusters=2, random_state=0, init='random', n_init='auto').fit(X_vote)\n",
    "predictions_all = kmeans_all.labels_\n",
    "accuracy_all = accuracy_score(y_vote, predictions_all)"
   ]
  },
  {
   "cell_type": "markdown",
   "metadata": {},
   "source": [
    "> (b) split 0.66"
   ]
  },
  {
   "cell_type": "code",
   "execution_count": 52,
   "metadata": {},
   "outputs": [
    {
     "name": "stdout",
     "output_type": "stream",
     "text": [
      "accuracy_train_b = 0.8580645161290322\n",
      "accuracy_b_test = 0.961038961038961\n"
     ]
    }
   ],
   "source": [
    "X_train_b, X_test_b, y_train_b, y_test_b = train_test_split(X_vote, y_vote, test_size=0.33, random_state=2)\n",
    "kmeans_b = KMeans(n_clusters=2, random_state=0, init='random', n_init='auto').fit(X_train_b)\n",
    "predictions_train_b = kmeans_b.labels_\n",
    "predictions_test_b = kmeans_b.predict(X_test_b)\n",
    "accuracy_b_train = accuracy_score(y_train_b, kmeans_b.labels_)\n",
    "accuracy_b_test = accuracy_score(y_test_b, predictions_test_b)\n",
    "print(f'accuracy_train_b = {accuracy_b_train}')\n",
    "print(f'accuracy_b_test = {accuracy_b_test}')"
   ]
  },
  {
   "cell_type": "markdown",
   "metadata": {},
   "source": [
    "> (c) split"
   ]
  },
  {
   "cell_type": "code",
   "execution_count": 56,
   "metadata": {},
   "outputs": [
    {
     "data": {
      "text/plain": [
       "0.9166666666666666"
      ]
     },
     "execution_count": 56,
     "metadata": {},
     "output_type": "execute_result"
    }
   ],
   "source": [
    "kmeans_c = KMeans(n_clusters=2, random_state=0, init='random', n_init='auto').fit(X_90)\n",
    "predictions_test_c = kmeans_c.predict(X_10)\n",
    "accuracy_c_test = accuracy_score(y_10, predictions_test_c) "
   ]
  },
  {
   "cell_type": "markdown",
   "metadata": {},
   "source": [
    "> 6."
   ]
  },
  {
   "cell_type": "code",
   "execution_count": 58,
   "metadata": {},
   "outputs": [
    {
     "name": "stdout",
     "output_type": "stream",
     "text": [
      "accuracy_train_6 = 0.8990384615384616\n",
      "accuracy_6_test = 0.8333333333333334\n"
     ]
    }
   ],
   "source": [
    "X_train_6, X_test_6, y_train_6, y_test_6 = train_test_split(X_vote, y_vote, test_size=0.1, random_state=5)\n",
    "kmeans_6 = KMeans(n_clusters=2, random_state=0, init='random', n_init='auto').fit(X_train_6)\n",
    "predictions_train_6 = kmeans_6.labels_\n",
    "predictions_test_6 = kmeans_6.predict(X_test_6)\n",
    "accuracy_6_train = accuracy_score(y_train_6, kmeans_6.labels_)\n",
    "accuracy_6_test = accuracy_score(y_test_6, predictions_test_6)\n",
    "print(f'accuracy_train_6 = {accuracy_6_train}')\n",
    "print(f'accuracy_6_test = {accuracy_6_test}')"
   ]
  },
  {
   "cell_type": "markdown",
   "metadata": {},
   "source": [
    "> L'accuracy de 6. n'est pas très proche de l'accuracy de 5.c), probablement car la seed a été changée entre les deux. <br> \n",
    "Il est possible que Weka ne change pas la seed, ce qui conduit à des erreurs plus proches car les ensembles test / entrainement sont alors similaires."
   ]
  },
  {
   "cell_type": "markdown",
   "metadata": {},
   "source": [
    "> 7."
   ]
  },
  {
   "cell_type": "markdown",
   "metadata": {},
   "source": [
    "Le modèle b a la meilleure test accuracy: 96%. <br>\n",
    "C'est aussi le modèle le mieux testé car il a l'ensemble de test le plus grand. <br> \n",
    "On conserve donc le modèle b."
   ]
  }
 ],
 "metadata": {
  "kernelspec": {
   "display_name": "Python 3",
   "language": "python",
   "name": "python3"
  },
  "language_info": {
   "codemirror_mode": {
    "name": "ipython",
    "version": 3
   },
   "file_extension": ".py",
   "mimetype": "text/x-python",
   "name": "python",
   "nbconvert_exporter": "python",
   "pygments_lexer": "ipython3",
   "version": "3.10.12"
  }
 },
 "nbformat": 4,
 "nbformat_minor": 2
}
